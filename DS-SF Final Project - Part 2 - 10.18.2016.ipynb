{
 "cells": [
  {
   "cell_type": "markdown",
   "metadata": {
    "collapsed": false
   },
   "source": [
    "### Project Problem and Hypothesis\n",
    "----------------------------------"
   ]
  },
  {
   "cell_type": "markdown",
   "metadata": {
    "collapsed": true
   },
   "source": [
    "Overall, I am interested in using comprehensive molecular and clinical data in order to make predictions for patient treatment and prognosis for diseases such as cancer.  Significant advances in technology have not only advanced the ability to process large amounts of data but in the field of biomedicine, has also advanced the speed at which data and the type of data that can be gathered at low costs.  High-throughput sequencing technologies allow researchers to extract information on the expression of entire genomes. For example, gene expression profiling by DNA microarray technology has enabled the classification of different cancers into distinct subgroups, providing insight in areas including cancer cell origin and tumor environment status[1-2].  For breast cancer alone, at least five molecular subgroups have been identified (basal-like, normal-like, HER2-positive, and luminal A and luminal B). One reason understanding the various subgroups of a disease based on its molecular signature is important is because it suggests that there may be therapeutic treatments that can be developed to specifically target each subtype.  Breast cancer is the second most common cancer in women after skin cancer, and it is estimated that in 2016 there will be 246,600 new cases of breast cancer in the US in 2016, contributing to 14.6% of all new cases of cancer and 6.8% of deaths in 2016.  Using I would like to perform a proof-of-concept study to determine the genomic, histological, and clinical factors to predict breast cancer type and prognosis.  I will use logistic regression and KMeans clustering to determine if a breast cancer subtype can be determined based on relative RNA expression.  While molecular signatures of breast cancer is not a new topic, I would like to use this proof-of-concept study as a springboard to \n",
    "What's the project about? What problem are you solving?\n",
    "Where does this seem to reside as a machine learning problem? Are you predicting some continuous number, or predicting a binary value?\n",
    "What kind of impact do you think it could have?\n",
    "What do you think will have the most impact in predicting the value you are interested in solving for?\n"
   ]
  },
  {
   "cell_type": "markdown",
   "metadata": {},
   "source": [
    "1. Eisen, M.B. and Patrick O. Brown. DNA arrays for analysis of gene expression. _Methods in Enzymology_  http://www.sciencedirect.com/science/article/pii/S0076687999030141\n",
    "2. Perou, C.M. et al. Molecular portraits of human breast tumours. _Nature_ http://www.nature.com/nature/journal/v406/n6797/full/406747a0.html\n",
    "3. Winslow, S. et al. Prognostic stromal gene signatures in breast cancer. _Breast Cancer Research_ https://breast-cancer-research.biomedcentral.com/articles/10.1186/s13058-015-0530-2\n",
    "4. Sorlie, T. Repeated observation of breast tumor subtypes in independent gene expression data sets. _PNAS_  https://www.ncbi.nlm.nih.gov/pmc/articles/PMC166244/"
   ]
  },
  {
   "cell_type": "markdown",
   "metadata": {
    "collapsed": true
   },
   "source": [
    "### Datasets\n",
    "----------------------------------"
   ]
  },
  {
   "cell_type": "markdown",
   "metadata": {},
   "source": [
    "The Cancer Genome Atlas (TCGA) is a National Institutes of Health and National Human Genome Institute project using high-throughput genomics technologies to characterize the genetic landscape of various human cancers in order to understand the genetic bases for human cancers, with the ultimate goal of improving diagnosis, treatment, and prevention. Over two petabytes of data spanning 33 tumor types and 10 rare cancers from over 11,000 eligible volunteers has been gathered. Biotechniques used to gather molecular profiles on participant biospecimen include gene expression profiling, copy number variation profiling, SNP genotyping, genome wide DNA methylation profiling, microRNA profiling, and exon sequencing of at least 1,200 genes.  \n",
    "\n",
    "This dataset consists of several tables:"
   ]
  },
  {
   "cell_type": "code",
   "execution_count": 23,
   "metadata": {
    "collapsed": false
   },
   "outputs": [],
   "source": [
    "import datalab.bigquery as bq\n"
   ]
  },
  {
   "cell_type": "code",
   "execution_count": 2,
   "metadata": {
    "collapsed": false
   },
   "outputs": [
    {
     "name": "stdout",
     "output_type": "stream",
     "text": [
      "      6322 rows   Annotations\n",
      "     23797 rows   Biospecimen_data\n",
      "     11160 rows   Clinical_data\n",
      "   2646095 rows   Copy_Number_segments\n",
      "3944304319 rows   DNA_Methylation_betas\n",
      " 382335670 rows   DNA_Methylation_chr1\n",
      " 197519895 rows   DNA_Methylation_chr10\n",
      " 235823572 rows   DNA_Methylation_chr11\n",
      " 198050739 rows   DNA_Methylation_chr12\n",
      "  97301675 rows   DNA_Methylation_chr13\n",
      " 123239379 rows   DNA_Methylation_chr14\n",
      " 124566185 rows   DNA_Methylation_chr15\n",
      " 179772812 rows   DNA_Methylation_chr16\n",
      " 234003341 rows   DNA_Methylation_chr17\n",
      "  50216619 rows   DNA_Methylation_chr18\n",
      " 211386795 rows   DNA_Methylation_chr19\n",
      " 279668485 rows   DNA_Methylation_chr2\n",
      "  86858120 rows   DNA_Methylation_chr20\n",
      "  35410447 rows   DNA_Methylation_chr21\n",
      "  70676468 rows   DNA_Methylation_chr22\n",
      " 201119616 rows   DNA_Methylation_chr3\n",
      " 159148744 rows   DNA_Methylation_chr4\n",
      " 195864180 rows   DNA_Methylation_chr5\n",
      " 290275524 rows   DNA_Methylation_chr6\n",
      " 240010275 rows   DNA_Methylation_chr7\n",
      " 164810092 rows   DNA_Methylation_chr8\n",
      "  81260723 rows   DNA_Methylation_chr9\n",
      "  98082681 rows   DNA_Methylation_chrX\n",
      "   2330426 rows   DNA_Methylation_chrY\n",
      "   1867233 rows   Protein_RPPA_data\n",
      "   5356089 rows   Somatic_Mutation_calls\n",
      "   5738048 rows   mRNA_BCGSC_GA_RPKM\n",
      "  38299138 rows   mRNA_BCGSC_HiSeq_RPKM\n",
      "  44037186 rows   mRNA_BCGSC_RPKM\n",
      "  16794358 rows   mRNA_UNC_GA_RSEM\n",
      " 211284521 rows   mRNA_UNC_HiSeq_RSEM\n",
      " 228078879 rows   mRNA_UNC_RSEM\n",
      "  11997545 rows   miRNA_BCGSC_GA_isoform\n",
      "   4503046 rows   miRNA_BCGSC_GA_mirna\n",
      "  90237323 rows   miRNA_BCGSC_HiSeq_isoform\n",
      "  28207741 rows   miRNA_BCGSC_HiSeq_mirna\n",
      " 102234868 rows   miRNA_BCGSC_isoform\n",
      "  32710787 rows   miRNA_BCGSC_mirna\n",
      "  26763022 rows   miRNA_Expression\n"
     ]
    }
   ],
   "source": [
    "import datalab.bigquery as bq\n",
    "\n",
    "d = bq.Dataset('isb-cgc:tcga_201607_beta')\n",
    "for t in d.tables():\n",
    "  print '%10d rows   %s' % (t.metadata.rows, t.name.table_id)"
   ]
  },
  {
   "cell_type": "markdown",
   "metadata": {},
   "source": [
    "I will be focusing on the following tables: \n",
    "\n",
    "Table Name|Info\n",
    " --- |---\n",
    "Annotations| annotations and related information\n",
    "Biospecimen_data | (sample-centric table) contains one row of information for each sample\n",
    "Clinical_data | (patient-centric table) contains one row of information for each TCGA patient\n",
    "mRNA_UNC_HiSeq_RSEM | contains gene expression data fromsamples assayed on the Illumina HiSeq platform and processed through the UNC “RNASeqV2” RSEM pipeline. Each row in this table contains the RSEM expression estimate for a single gene in a single aliquot. \n"
   ]
  },
  {
   "cell_type": "markdown",
   "metadata": {},
   "source": [
    "Here's a peek into each of the four tables:"
   ]
  },
  {
   "cell_type": "markdown",
   "metadata": {},
   "source": [
    "**Annotations:**"
   ]
  },
  {
   "cell_type": "code",
   "execution_count": 3,
   "metadata": {
    "collapsed": false
   },
   "outputs": [
    {
     "data": {
      "text/html": [
       "\n",
       "    <div class=\"bqsv\" id=\"1_147697947166\"></div>\n",
       "    <script>\n",
       "      require(['datalab/bigquery', 'datalab/element!1_147697947166',\n",
       "          'datalab/style!/nbextensions/gcpdatalab/bigquery.css'],\n",
       "        function(bq, dom) {\n",
       "          bq.renderSchema(dom, [{\"type\": \"INTEGER\", \"name\": \"annotationId\", \"description\": \"each annotation was assigned a unique (integer) identifier\"}, {\"type\": \"INTEGER\", \"name\": \"annotationCategoryId\", \"description\": \"there are 38 different \\\"annotation categories\\\", each of which has a unique (integer) identifier\"}, {\"type\": \"STRING\", \"name\": \"annotationCategoryName\", \"description\": \"each of the 38 \\\"annotation categories\\\" also has a \\\"name\\\" associated with it, eg \\\"Item is noncanonical\\\", \\\"Item flagged DNU\\\", \\\"Prior malignancy\\\", etc\"}, {\"type\": \"STRING\", \"name\": \"annotationClassification\", \"description\": \"each annotation gets one of four possible \\\"classifications\\\": \\\"Notification\\\", \\\"CenterNotification\\\", \\\"Observation\\\", and \\\"Redaction\\\"\"}, {\"type\": \"STRING\", \"name\": \"annotationNoteText\", \"description\": \"arbitrary note associated with each annotation (this is required for each annotation)\"}, {\"type\": \"STRING\", \"name\": \"Study\", \"description\": \"each annotation is for a specific \\\"item\\\" (which can be a patient, a sample, an aliquot, etc), and this field contains the Study (eg \\\"OV\\\", \\\"GBM', etc) with which that item is associated\"}, {\"type\": \"STRING\", \"name\": \"itemTypeName\", \"description\": \"each annotation is for a specific TCGA \\\"item\\\", and this field specifies what *type* of item it is -- ie, a \\\"Shipped Portion\\\", \\\"Aliquot\\\", \\\"Patient\\\", \\\"Analyte\\\", \\\"Slide\\\", \\\"Sample\\\", or \\\"Portion\\\" --  for more details, refer to the TCGA Encyclopedia at https://wiki.nci.nih.gov/display/TCGA/TCGA+Encyclopedia\"}, {\"type\": \"STRING\", \"name\": \"itemBarcode\", \"description\": \"each annotation is for a specific TCGA \\\"item\\\", and this field specifies the barcode of that item\"}, {\"type\": \"STRING\", \"name\": \"AliquotBarcode\", \"description\": \"this field is frequently null, but if the \\\"itemType\\\" is an Aliquot, then this field will contain the itemBarcode\"}, {\"type\": \"STRING\", \"name\": \"ParticipantBarcode\", \"description\": \"this field contains the participant barcode for each annotation -- even if the annotation relates only to one aliquot from this participant (aka patient)\"}, {\"type\": \"STRING\", \"name\": \"SampleBarcode\", \"description\": \"this field contains the sample barcode for each annotation, unless the annotation is at the patient (aka participant) level\"}, {\"type\": \"STRING\", \"name\": \"dateAdded\", \"description\": \"date that this annotation was added to the annotation database\"}, {\"type\": \"STRING\", \"name\": \"dateCreated\", \"description\": \"date that this annotation was first created\"}, {\"type\": \"STRING\", \"name\": \"dateEdited\", \"description\": \"date that this annotation was last edited\"}]);\n",
       "        }\n",
       "      );\n",
       "    </script>\n",
       "    "
      ],
      "text/plain": [
       "[{ 'name': 'annotationId', 'type': 'INTEGER', 'mode':'None', 'description': 'each annotation was assigned a unique (integer) identifier' },\n",
       " { 'name': 'annotationCategoryId', 'type': 'INTEGER', 'mode':'None', 'description': 'there are 38 different \"annotation categories\", each of which has a unique (integer) identifier' },\n",
       " { 'name': 'annotationCategoryName', 'type': 'STRING', 'mode':'None', 'description': 'each of the 38 \"annotation categories\" also has a \"name\" associated with it, eg \"Item is noncanonical\", \"Item flagged DNU\", \"Prior malignancy\", etc' },\n",
       " { 'name': 'annotationClassification', 'type': 'STRING', 'mode':'None', 'description': 'each annotation gets one of four possible \"classifications\": \"Notification\", \"CenterNotification\", \"Observation\", and \"Redaction\"' },\n",
       " { 'name': 'annotationNoteText', 'type': 'STRING', 'mode':'None', 'description': 'arbitrary note associated with each annotation (this is required for each annotation)' },\n",
       " { 'name': 'Study', 'type': 'STRING', 'mode':'None', 'description': 'each annotation is for a specific \"item\" (which can be a patient, a sample, an aliquot, etc), and this field contains the Study (eg \"OV\", \"GBM', etc) with which that item is associated' },\n",
       " { 'name': 'itemTypeName', 'type': 'STRING', 'mode':'None', 'description': 'each annotation is for a specific TCGA \"item\", and this field specifies what *type* of item it is -- ie, a \"Shipped Portion\", \"Aliquot\", \"Patient\", \"Analyte\", \"Slide\", \"Sample\", or \"Portion\" --  for more details, refer to the TCGA Encyclopedia at https://wiki.nci.nih.gov/display/TCGA/TCGA+Encyclopedia' },\n",
       " { 'name': 'itemBarcode', 'type': 'STRING', 'mode':'None', 'description': 'each annotation is for a specific TCGA \"item\", and this field specifies the barcode of that item' },\n",
       " { 'name': 'AliquotBarcode', 'type': 'STRING', 'mode':'None', 'description': 'this field is frequently null, but if the \"itemType\" is an Aliquot, then this field will contain the itemBarcode' },\n",
       " { 'name': 'ParticipantBarcode', 'type': 'STRING', 'mode':'None', 'description': 'this field contains the participant barcode for each annotation -- even if the annotation relates only to one aliquot from this participant (aka patient)' },\n",
       " { 'name': 'SampleBarcode', 'type': 'STRING', 'mode':'None', 'description': 'this field contains the sample barcode for each annotation, unless the annotation is at the patient (aka participant) level' },\n",
       " { 'name': 'dateAdded', 'type': 'STRING', 'mode':'None', 'description': 'date that this annotation was added to the annotation database' },\n",
       " { 'name': 'dateCreated', 'type': 'STRING', 'mode':'None', 'description': 'date that this annotation was first created' },\n",
       " { 'name': 'dateEdited', 'type': 'STRING', 'mode':'None', 'description': 'date that this annotation was last edited' }]"
      ]
     },
     "execution_count": 3,
     "metadata": {},
     "output_type": "execute_result"
    }
   ],
   "source": [
    "bq.Table('isb-cgc:tcga_201607_beta.Annotations').schema"
   ]
  },
  {
   "cell_type": "code",
   "execution_count": 4,
   "metadata": {
    "collapsed": false
   },
   "outputs": [
    {
     "data": {
      "text/html": [
       "\n",
       "    <div class=\"bqtv\" id=\"2_147697947428\"><table><tr><th>annotationId</th><th>annotationCategoryId</th><th>annotationCategoryName</th><th>annotationClassification</th><th>annotationNoteText</th><th>Study</th><th>itemTypeName</th><th>itemBarcode</th><th>AliquotBarcode</th><th>ParticipantBarcode</th><th>SampleBarcode</th><th>dateAdded</th><th>dateCreated</th><th>dateEdited</th></tr><tr><td>711</td><td>1</td><td>Tumor tissue origin incorrect</td><td>Redaction</td><td>[intgen.org]: Case was of non-ovarian origin</td><td>GBM</td><td>Patient</td><td>TCGA-01-0629</td><td>&nbsp;</td><td>TCGA-01-0629</td><td>&nbsp;</td><td>2010-09-02T00:00:00-04:00</td><td>2010-09-02T00:00:00-04:00</td><td>&nbsp;</td></tr><tr><td>713</td><td>1</td><td>Tumor tissue origin incorrect</td><td>Redaction</td><td>[intgen.org]: Case was of non-ovarian origin</td><td>OV</td><td>Patient</td><td>TCGA-13-1479</td><td>&nbsp;</td><td>TCGA-13-1479</td><td>&nbsp;</td><td>2010-09-02T00:00:00-04:00</td><td>2010-09-02T00:00:00-04:00</td><td>&nbsp;</td></tr></table></div>\n",
       "    <br />(rows: 2, time: 0.8s,     1MB processed, job: job_KTkBfoXvFUbxP7S5UPEdA_XZyn8)<br />\n",
       "    <script>\n",
       "\n",
       "      require.config({\n",
       "        paths: {\n",
       "          d3: '//cdnjs.cloudflare.com/ajax/libs/d3/3.4.13/d3',\n",
       "          plotly: 'https://cdn.plot.ly/plotly-1.5.1.min.js?noext',\n",
       "          jquery: '//ajax.googleapis.com/ajax/libs/jquery/2.0.0/jquery.min'\n",
       "        },\n",
       "        map: {\n",
       "          '*': {\n",
       "            datalab: 'nbextensions/gcpdatalab'\n",
       "          }\n",
       "        },\n",
       "        shim: {\n",
       "          plotly: {\n",
       "            deps: ['d3', 'jquery'],\n",
       "            exports: 'plotly'\n",
       "          }\n",
       "        }\n",
       "      });\n",
       "\n",
       "      require(['datalab/charting', 'datalab/element!2_147697947428', 'base/js/events',\n",
       "          'datalab/style!/nbextensions/gcpdatalab/charting.css'],\n",
       "        function(charts, dom, events) {\n",
       "          charts.render('gcharts', dom, events, 'table', [], {\"rows\": [{\"c\": [{\"v\": 711}, {\"v\": 1}, {\"v\": \"Tumor tissue origin incorrect\"}, {\"v\": \"Redaction\"}, {\"v\": \"[intgen.org]: Case was of non-ovarian origin\"}, {\"v\": \"GBM\"}, {\"v\": \"Patient\"}, {\"v\": \"TCGA-01-0629\"}, {\"v\": null}, {\"v\": \"TCGA-01-0629\"}, {\"v\": null}, {\"v\": \"2010-09-02T00:00:00-04:00\"}, {\"v\": \"2010-09-02T00:00:00-04:00\"}, {\"v\": null}]}, {\"c\": [{\"v\": 713}, {\"v\": 1}, {\"v\": \"Tumor tissue origin incorrect\"}, {\"v\": \"Redaction\"}, {\"v\": \"[intgen.org]: Case was of non-ovarian origin\"}, {\"v\": \"OV\"}, {\"v\": \"Patient\"}, {\"v\": \"TCGA-13-1479\"}, {\"v\": null}, {\"v\": \"TCGA-13-1479\"}, {\"v\": null}, {\"v\": \"2010-09-02T00:00:00-04:00\"}, {\"v\": \"2010-09-02T00:00:00-04:00\"}, {\"v\": null}]}], \"cols\": [{\"type\": \"number\", \"id\": \"annotationId\", \"label\": \"annotationId\"}, {\"type\": \"number\", \"id\": \"annotationCategoryId\", \"label\": \"annotationCategoryId\"}, {\"type\": \"string\", \"id\": \"annotationCategoryName\", \"label\": \"annotationCategoryName\"}, {\"type\": \"string\", \"id\": \"annotationClassification\", \"label\": \"annotationClassification\"}, {\"type\": \"string\", \"id\": \"annotationNoteText\", \"label\": \"annotationNoteText\"}, {\"type\": \"string\", \"id\": \"Study\", \"label\": \"Study\"}, {\"type\": \"string\", \"id\": \"itemTypeName\", \"label\": \"itemTypeName\"}, {\"type\": \"string\", \"id\": \"itemBarcode\", \"label\": \"itemBarcode\"}, {\"type\": \"string\", \"id\": \"AliquotBarcode\", \"label\": \"AliquotBarcode\"}, {\"type\": \"string\", \"id\": \"ParticipantBarcode\", \"label\": \"ParticipantBarcode\"}, {\"type\": \"string\", \"id\": \"SampleBarcode\", \"label\": \"SampleBarcode\"}, {\"type\": \"string\", \"id\": \"dateAdded\", \"label\": \"dateAdded\"}, {\"type\": \"string\", \"id\": \"dateCreated\", \"label\": \"dateCreated\"}, {\"type\": \"string\", \"id\": \"dateEdited\", \"label\": \"dateEdited\"}]},\n",
       "            {\n",
       "              pageSize: 25,\n",
       "              cssClassNames:  {\n",
       "                tableRow: 'gchart-table-row',\n",
       "                headerRow: 'gchart-table-headerrow',\n",
       "                oddTableRow: 'gchart-table-oddrow',\n",
       "                selectedTableRow: 'gchart-table-selectedrow',\n",
       "                hoverTableRow: 'gchart-table-hoverrow',\n",
       "                tableCell: 'gchart-table-cell',\n",
       "                headerCell: 'gchart-table-headercell',\n",
       "                rowNumberCell: 'gchart-table-rownumcell'\n",
       "              }\n",
       "            },\n",
       "            {source_index: 0, fields: 'annotationId,annotationCategoryId,annotationCategoryName,annotationClassification,annotationNoteText,Study,itemTypeName,itemBarcode,AliquotBarcode,ParticipantBarcode,SampleBarcode,dateAdded,dateCreated,dateEdited'},\n",
       "            0,\n",
       "            2);\n",
       "        }\n",
       "      );\n",
       "    </script>\n",
       "  "
      ],
      "text/plain": [
       "QueryResultsTable job_KTkBfoXvFUbxP7S5UPEdA_XZyn8"
      ]
     },
     "execution_count": 4,
     "metadata": {},
     "output_type": "execute_result"
    }
   ],
   "source": [
    "bq.Table('isb-cgc:tcga_201607_beta.Annotations').sample(count=2)"
   ]
  },
  {
   "cell_type": "markdown",
   "metadata": {},
   "source": [
    "---"
   ]
  },
  {
   "cell_type": "markdown",
   "metadata": {},
   "source": [
    "**Biospecimen Data: **"
   ]
  },
  {
   "cell_type": "code",
   "execution_count": 5,
   "metadata": {
    "collapsed": false
   },
   "outputs": [
    {
     "data": {
      "text/html": [
       "\n",
       "    <div class=\"bqsv\" id=\"3_147697947521\"></div>\n",
       "    <script>\n",
       "      require(['datalab/bigquery', 'datalab/element!3_147697947521',\n",
       "          'datalab/style!/nbextensions/gcpdatalab/bigquery.css'],\n",
       "        function(bq, dom) {\n",
       "          bq.renderSchema(dom, [{\"type\": \"STRING\", \"name\": \"ParticipantBarcode\"}, {\"type\": \"STRING\", \"name\": \"SampleBarcode\"}, {\"type\": \"STRING\", \"name\": \"SampleTypeLetterCode\"}, {\"type\": \"STRING\", \"name\": \"SampleType\"}, {\"type\": \"STRING\", \"name\": \"Study\"}, {\"type\": \"STRING\", \"name\": \"Project\"}, {\"type\": \"STRING\", \"name\": \"SampleTypeCode\"}, {\"type\": \"FLOAT\", \"name\": \"avg_percent_lymphocyte_infiltration\"}, {\"type\": \"FLOAT\", \"name\": \"avg_percent_monocyte_infiltration\"}, {\"type\": \"FLOAT\", \"name\": \"avg_percent_necrosis\"}, {\"type\": \"FLOAT\", \"name\": \"avg_percent_neutrophil_infiltration\"}, {\"type\": \"FLOAT\", \"name\": \"avg_percent_normal_cells\"}, {\"type\": \"FLOAT\", \"name\": \"avg_percent_stromal_cells\"}, {\"type\": \"FLOAT\", \"name\": \"avg_percent_tumor_cells\"}, {\"type\": \"FLOAT\", \"name\": \"avg_percent_tumor_nuclei\"}, {\"type\": \"INTEGER\", \"name\": \"batch_number\"}, {\"type\": \"STRING\", \"name\": \"bcr\"}, {\"type\": \"FLOAT\", \"name\": \"days_to_collection\"}, {\"type\": \"FLOAT\", \"name\": \"days_to_sample_procurement\"}, {\"type\": \"STRING\", \"name\": \"is_ffpe\"}, {\"type\": \"FLOAT\", \"name\": \"max_percent_lymphocyte_infiltration\"}, {\"type\": \"FLOAT\", \"name\": \"max_percent_monocyte_infiltration\"}, {\"type\": \"FLOAT\", \"name\": \"max_percent_necrosis\"}, {\"type\": \"FLOAT\", \"name\": \"max_percent_neutrophil_infiltration\"}, {\"type\": \"FLOAT\", \"name\": \"max_percent_normal_cells\"}, {\"type\": \"FLOAT\", \"name\": \"max_percent_stromal_cells\"}, {\"type\": \"FLOAT\", \"name\": \"max_percent_tumor_cells\"}, {\"type\": \"FLOAT\", \"name\": \"max_percent_tumor_nuclei\"}, {\"type\": \"FLOAT\", \"name\": \"min_percent_lymphocyte_infiltration\"}, {\"type\": \"FLOAT\", \"name\": \"min_percent_monocyte_infiltration\"}, {\"type\": \"FLOAT\", \"name\": \"min_percent_necrosis\"}, {\"type\": \"FLOAT\", \"name\": \"min_percent_neutrophil_infiltration\"}, {\"type\": \"FLOAT\", \"name\": \"min_percent_normal_cells\"}, {\"type\": \"FLOAT\", \"name\": \"min_percent_stromal_cells\"}, {\"type\": \"FLOAT\", \"name\": \"min_percent_tumor_cells\"}, {\"type\": \"FLOAT\", \"name\": \"min_percent_tumor_nuclei\"}, {\"type\": \"INTEGER\", \"name\": \"num_portions\"}, {\"type\": \"INTEGER\", \"name\": \"num_slides\"}, {\"type\": \"STRING\", \"name\": \"SampleUUID\"}]);\n",
       "        }\n",
       "      );\n",
       "    </script>\n",
       "    "
      ],
      "text/plain": [
       "[{ 'name': 'ParticipantBarcode', 'type': 'STRING', 'mode':'None', 'description': 'None' },\n",
       " { 'name': 'SampleBarcode', 'type': 'STRING', 'mode':'None', 'description': 'None' },\n",
       " { 'name': 'SampleTypeLetterCode', 'type': 'STRING', 'mode':'None', 'description': 'None' },\n",
       " { 'name': 'SampleType', 'type': 'STRING', 'mode':'None', 'description': 'None' },\n",
       " { 'name': 'Study', 'type': 'STRING', 'mode':'None', 'description': 'None' },\n",
       " { 'name': 'Project', 'type': 'STRING', 'mode':'None', 'description': 'None' },\n",
       " { 'name': 'SampleTypeCode', 'type': 'STRING', 'mode':'None', 'description': 'None' },\n",
       " { 'name': 'avg_percent_lymphocyte_infiltration', 'type': 'FLOAT', 'mode':'None', 'description': 'None' },\n",
       " { 'name': 'avg_percent_monocyte_infiltration', 'type': 'FLOAT', 'mode':'None', 'description': 'None' },\n",
       " { 'name': 'avg_percent_necrosis', 'type': 'FLOAT', 'mode':'None', 'description': 'None' },\n",
       " { 'name': 'avg_percent_neutrophil_infiltration', 'type': 'FLOAT', 'mode':'None', 'description': 'None' },\n",
       " { 'name': 'avg_percent_normal_cells', 'type': 'FLOAT', 'mode':'None', 'description': 'None' },\n",
       " { 'name': 'avg_percent_stromal_cells', 'type': 'FLOAT', 'mode':'None', 'description': 'None' },\n",
       " { 'name': 'avg_percent_tumor_cells', 'type': 'FLOAT', 'mode':'None', 'description': 'None' },\n",
       " { 'name': 'avg_percent_tumor_nuclei', 'type': 'FLOAT', 'mode':'None', 'description': 'None' },\n",
       " { 'name': 'batch_number', 'type': 'INTEGER', 'mode':'None', 'description': 'None' },\n",
       " { 'name': 'bcr', 'type': 'STRING', 'mode':'None', 'description': 'None' },\n",
       " { 'name': 'days_to_collection', 'type': 'FLOAT', 'mode':'None', 'description': 'None' },\n",
       " { 'name': 'days_to_sample_procurement', 'type': 'FLOAT', 'mode':'None', 'description': 'None' },\n",
       " { 'name': 'is_ffpe', 'type': 'STRING', 'mode':'None', 'description': 'None' },\n",
       " { 'name': 'max_percent_lymphocyte_infiltration', 'type': 'FLOAT', 'mode':'None', 'description': 'None' },\n",
       " { 'name': 'max_percent_monocyte_infiltration', 'type': 'FLOAT', 'mode':'None', 'description': 'None' },\n",
       " { 'name': 'max_percent_necrosis', 'type': 'FLOAT', 'mode':'None', 'description': 'None' },\n",
       " { 'name': 'max_percent_neutrophil_infiltration', 'type': 'FLOAT', 'mode':'None', 'description': 'None' },\n",
       " { 'name': 'max_percent_normal_cells', 'type': 'FLOAT', 'mode':'None', 'description': 'None' },\n",
       " { 'name': 'max_percent_stromal_cells', 'type': 'FLOAT', 'mode':'None', 'description': 'None' },\n",
       " { 'name': 'max_percent_tumor_cells', 'type': 'FLOAT', 'mode':'None', 'description': 'None' },\n",
       " { 'name': 'max_percent_tumor_nuclei', 'type': 'FLOAT', 'mode':'None', 'description': 'None' },\n",
       " { 'name': 'min_percent_lymphocyte_infiltration', 'type': 'FLOAT', 'mode':'None', 'description': 'None' },\n",
       " { 'name': 'min_percent_monocyte_infiltration', 'type': 'FLOAT', 'mode':'None', 'description': 'None' },\n",
       " { 'name': 'min_percent_necrosis', 'type': 'FLOAT', 'mode':'None', 'description': 'None' },\n",
       " { 'name': 'min_percent_neutrophil_infiltration', 'type': 'FLOAT', 'mode':'None', 'description': 'None' },\n",
       " { 'name': 'min_percent_normal_cells', 'type': 'FLOAT', 'mode':'None', 'description': 'None' },\n",
       " { 'name': 'min_percent_stromal_cells', 'type': 'FLOAT', 'mode':'None', 'description': 'None' },\n",
       " { 'name': 'min_percent_tumor_cells', 'type': 'FLOAT', 'mode':'None', 'description': 'None' },\n",
       " { 'name': 'min_percent_tumor_nuclei', 'type': 'FLOAT', 'mode':'None', 'description': 'None' },\n",
       " { 'name': 'num_portions', 'type': 'INTEGER', 'mode':'None', 'description': 'None' },\n",
       " { 'name': 'num_slides', 'type': 'INTEGER', 'mode':'None', 'description': 'None' },\n",
       " { 'name': 'SampleUUID', 'type': 'STRING', 'mode':'None', 'description': 'None' }]"
      ]
     },
     "execution_count": 5,
     "metadata": {},
     "output_type": "execute_result"
    }
   ],
   "source": [
    "bq.Table('isb-cgc:tcga_201607_beta.Biospecimen_data').schema"
   ]
  },
  {
   "cell_type": "code",
   "execution_count": 6,
   "metadata": {
    "collapsed": false
   },
   "outputs": [
    {
     "data": {
      "text/html": [
       "\n",
       "    <div class=\"bqtv\" id=\"4_147697947739\"><table><tr><th>ParticipantBarcode</th><th>SampleBarcode</th><th>SampleTypeLetterCode</th><th>SampleType</th><th>Study</th><th>Project</th><th>SampleTypeCode</th><th>avg_percent_lymphocyte_infiltration</th><th>avg_percent_monocyte_infiltration</th><th>avg_percent_necrosis</th><th>avg_percent_neutrophil_infiltration</th><th>avg_percent_normal_cells</th><th>avg_percent_stromal_cells</th><th>avg_percent_tumor_cells</th><th>avg_percent_tumor_nuclei</th><th>batch_number</th><th>bcr</th><th>days_to_collection</th><th>days_to_sample_procurement</th><th>is_ffpe</th><th>max_percent_lymphocyte_infiltration</th><th>max_percent_monocyte_infiltration</th><th>max_percent_necrosis</th><th>max_percent_neutrophil_infiltration</th><th>max_percent_normal_cells</th><th>max_percent_stromal_cells</th><th>max_percent_tumor_cells</th><th>max_percent_tumor_nuclei</th><th>min_percent_lymphocyte_infiltration</th><th>min_percent_monocyte_infiltration</th><th>min_percent_necrosis</th><th>min_percent_neutrophil_infiltration</th><th>min_percent_normal_cells</th><th>min_percent_stromal_cells</th><th>min_percent_tumor_cells</th><th>min_percent_tumor_nuclei</th><th>num_portions</th><th>num_slides</th><th>SampleUUID</th></tr><tr><td>TCGA-LP-A4AV</td><td>TCGA-LP-A4AV-10A</td><td>NB</td><td>Blood Derived Normal</td><td>CESC</td><td>TCGA</td><td>10</td><td>&nbsp;</td><td>&nbsp;</td><td>&nbsp;</td><td>&nbsp;</td><td>&nbsp;</td><td>&nbsp;</td><td>&nbsp;</td><td>&nbsp;</td><td>256</td><td>Nationwide Children's Hospital</td><td>413.0</td><td>364.0</td><td>NO</td><td>&nbsp;</td><td>&nbsp;</td><td>&nbsp;</td><td>&nbsp;</td><td>&nbsp;</td><td>&nbsp;</td><td>&nbsp;</td><td>&nbsp;</td><td>&nbsp;</td><td>&nbsp;</td><td>&nbsp;</td><td>&nbsp;</td><td>&nbsp;</td><td>&nbsp;</td><td>&nbsp;</td><td>&nbsp;</td><td>1</td><td>0</td><td>EC08F8EE-DA6A-4CFA-AEE9-07754224FC58</td></tr><tr><td>TCGA-LP-A4AX</td><td>TCGA-LP-A4AX-10A</td><td>NB</td><td>Blood Derived Normal</td><td>CESC</td><td>TCGA</td><td>10</td><td>&nbsp;</td><td>&nbsp;</td><td>&nbsp;</td><td>&nbsp;</td><td>&nbsp;</td><td>&nbsp;</td><td>&nbsp;</td><td>&nbsp;</td><td>256</td><td>Nationwide Children's Hospital</td><td>263.0</td><td>2.0</td><td>NO</td><td>&nbsp;</td><td>&nbsp;</td><td>&nbsp;</td><td>&nbsp;</td><td>&nbsp;</td><td>&nbsp;</td><td>&nbsp;</td><td>&nbsp;</td><td>&nbsp;</td><td>&nbsp;</td><td>&nbsp;</td><td>&nbsp;</td><td>&nbsp;</td><td>&nbsp;</td><td>&nbsp;</td><td>&nbsp;</td><td>1</td><td>0</td><td>AA734CF9-0C3C-4CE2-9C1E-3E3F9866C6D1</td></tr></table></div>\n",
       "    <br />(rows: 2, time: 1.0s,     6MB processed, job: job_M6yhGej4K0rm-8xcG5nMn810x0k)<br />\n",
       "    <script>\n",
       "\n",
       "      require.config({\n",
       "        paths: {\n",
       "          d3: '//cdnjs.cloudflare.com/ajax/libs/d3/3.4.13/d3',\n",
       "          plotly: 'https://cdn.plot.ly/plotly-1.5.1.min.js?noext',\n",
       "          jquery: '//ajax.googleapis.com/ajax/libs/jquery/2.0.0/jquery.min'\n",
       "        },\n",
       "        map: {\n",
       "          '*': {\n",
       "            datalab: 'nbextensions/gcpdatalab'\n",
       "          }\n",
       "        },\n",
       "        shim: {\n",
       "          plotly: {\n",
       "            deps: ['d3', 'jquery'],\n",
       "            exports: 'plotly'\n",
       "          }\n",
       "        }\n",
       "      });\n",
       "\n",
       "      require(['datalab/charting', 'datalab/element!4_147697947739', 'base/js/events',\n",
       "          'datalab/style!/nbextensions/gcpdatalab/charting.css'],\n",
       "        function(charts, dom, events) {\n",
       "          charts.render('gcharts', dom, events, 'table', [], {\"rows\": [{\"c\": [{\"v\": \"TCGA-LP-A4AV\"}, {\"v\": \"TCGA-LP-A4AV-10A\"}, {\"v\": \"NB\"}, {\"v\": \"Blood Derived Normal\"}, {\"v\": \"CESC\"}, {\"v\": \"TCGA\"}, {\"v\": \"10\"}, {\"v\": null}, {\"v\": null}, {\"v\": null}, {\"v\": null}, {\"v\": null}, {\"v\": null}, {\"v\": null}, {\"v\": null}, {\"v\": 256}, {\"v\": \"Nationwide Children's Hospital\"}, {\"v\": 413.0}, {\"v\": 364.0}, {\"v\": \"NO\"}, {\"v\": null}, {\"v\": null}, {\"v\": null}, {\"v\": null}, {\"v\": null}, {\"v\": null}, {\"v\": null}, {\"v\": null}, {\"v\": null}, {\"v\": null}, {\"v\": null}, {\"v\": null}, {\"v\": null}, {\"v\": null}, {\"v\": null}, {\"v\": null}, {\"v\": 1}, {\"v\": 0}, {\"v\": \"EC08F8EE-DA6A-4CFA-AEE9-07754224FC58\"}]}, {\"c\": [{\"v\": \"TCGA-LP-A4AX\"}, {\"v\": \"TCGA-LP-A4AX-10A\"}, {\"v\": \"NB\"}, {\"v\": \"Blood Derived Normal\"}, {\"v\": \"CESC\"}, {\"v\": \"TCGA\"}, {\"v\": \"10\"}, {\"v\": null}, {\"v\": null}, {\"v\": null}, {\"v\": null}, {\"v\": null}, {\"v\": null}, {\"v\": null}, {\"v\": null}, {\"v\": 256}, {\"v\": \"Nationwide Children's Hospital\"}, {\"v\": 263.0}, {\"v\": 2.0}, {\"v\": \"NO\"}, {\"v\": null}, {\"v\": null}, {\"v\": null}, {\"v\": null}, {\"v\": null}, {\"v\": null}, {\"v\": null}, {\"v\": null}, {\"v\": null}, {\"v\": null}, {\"v\": null}, {\"v\": null}, {\"v\": null}, {\"v\": null}, {\"v\": null}, {\"v\": null}, {\"v\": 1}, {\"v\": 0}, {\"v\": \"AA734CF9-0C3C-4CE2-9C1E-3E3F9866C6D1\"}]}], \"cols\": [{\"type\": \"string\", \"id\": \"ParticipantBarcode\", \"label\": \"ParticipantBarcode\"}, {\"type\": \"string\", \"id\": \"SampleBarcode\", \"label\": \"SampleBarcode\"}, {\"type\": \"string\", \"id\": \"SampleTypeLetterCode\", \"label\": \"SampleTypeLetterCode\"}, {\"type\": \"string\", \"id\": \"SampleType\", \"label\": \"SampleType\"}, {\"type\": \"string\", \"id\": \"Study\", \"label\": \"Study\"}, {\"type\": \"string\", \"id\": \"Project\", \"label\": \"Project\"}, {\"type\": \"string\", \"id\": \"SampleTypeCode\", \"label\": \"SampleTypeCode\"}, {\"type\": \"number\", \"id\": \"avg_percent_lymphocyte_infiltration\", \"label\": \"avg_percent_lymphocyte_infiltration\"}, {\"type\": \"number\", \"id\": \"avg_percent_monocyte_infiltration\", \"label\": \"avg_percent_monocyte_infiltration\"}, {\"type\": \"number\", \"id\": \"avg_percent_necrosis\", \"label\": \"avg_percent_necrosis\"}, {\"type\": \"number\", \"id\": \"avg_percent_neutrophil_infiltration\", \"label\": \"avg_percent_neutrophil_infiltration\"}, {\"type\": \"number\", \"id\": \"avg_percent_normal_cells\", \"label\": \"avg_percent_normal_cells\"}, {\"type\": \"number\", \"id\": \"avg_percent_stromal_cells\", \"label\": \"avg_percent_stromal_cells\"}, {\"type\": \"number\", \"id\": \"avg_percent_tumor_cells\", \"label\": \"avg_percent_tumor_cells\"}, {\"type\": \"number\", \"id\": \"avg_percent_tumor_nuclei\", \"label\": \"avg_percent_tumor_nuclei\"}, {\"type\": \"number\", \"id\": \"batch_number\", \"label\": \"batch_number\"}, {\"type\": \"string\", \"id\": \"bcr\", \"label\": \"bcr\"}, {\"type\": \"number\", \"id\": \"days_to_collection\", \"label\": \"days_to_collection\"}, {\"type\": \"number\", \"id\": \"days_to_sample_procurement\", \"label\": \"days_to_sample_procurement\"}, {\"type\": \"string\", \"id\": \"is_ffpe\", \"label\": \"is_ffpe\"}, {\"type\": \"number\", \"id\": \"max_percent_lymphocyte_infiltration\", \"label\": \"max_percent_lymphocyte_infiltration\"}, {\"type\": \"number\", \"id\": \"max_percent_monocyte_infiltration\", \"label\": \"max_percent_monocyte_infiltration\"}, {\"type\": \"number\", \"id\": \"max_percent_necrosis\", \"label\": \"max_percent_necrosis\"}, {\"type\": \"number\", \"id\": \"max_percent_neutrophil_infiltration\", \"label\": \"max_percent_neutrophil_infiltration\"}, {\"type\": \"number\", \"id\": \"max_percent_normal_cells\", \"label\": \"max_percent_normal_cells\"}, {\"type\": \"number\", \"id\": \"max_percent_stromal_cells\", \"label\": \"max_percent_stromal_cells\"}, {\"type\": \"number\", \"id\": \"max_percent_tumor_cells\", \"label\": \"max_percent_tumor_cells\"}, {\"type\": \"number\", \"id\": \"max_percent_tumor_nuclei\", \"label\": \"max_percent_tumor_nuclei\"}, {\"type\": \"number\", \"id\": \"min_percent_lymphocyte_infiltration\", \"label\": \"min_percent_lymphocyte_infiltration\"}, {\"type\": \"number\", \"id\": \"min_percent_monocyte_infiltration\", \"label\": \"min_percent_monocyte_infiltration\"}, {\"type\": \"number\", \"id\": \"min_percent_necrosis\", \"label\": \"min_percent_necrosis\"}, {\"type\": \"number\", \"id\": \"min_percent_neutrophil_infiltration\", \"label\": \"min_percent_neutrophil_infiltration\"}, {\"type\": \"number\", \"id\": \"min_percent_normal_cells\", \"label\": \"min_percent_normal_cells\"}, {\"type\": \"number\", \"id\": \"min_percent_stromal_cells\", \"label\": \"min_percent_stromal_cells\"}, {\"type\": \"number\", \"id\": \"min_percent_tumor_cells\", \"label\": \"min_percent_tumor_cells\"}, {\"type\": \"number\", \"id\": \"min_percent_tumor_nuclei\", \"label\": \"min_percent_tumor_nuclei\"}, {\"type\": \"number\", \"id\": \"num_portions\", \"label\": \"num_portions\"}, {\"type\": \"number\", \"id\": \"num_slides\", \"label\": \"num_slides\"}, {\"type\": \"string\", \"id\": \"SampleUUID\", \"label\": \"SampleUUID\"}]},\n",
       "            {\n",
       "              pageSize: 25,\n",
       "              cssClassNames:  {\n",
       "                tableRow: 'gchart-table-row',\n",
       "                headerRow: 'gchart-table-headerrow',\n",
       "                oddTableRow: 'gchart-table-oddrow',\n",
       "                selectedTableRow: 'gchart-table-selectedrow',\n",
       "                hoverTableRow: 'gchart-table-hoverrow',\n",
       "                tableCell: 'gchart-table-cell',\n",
       "                headerCell: 'gchart-table-headercell',\n",
       "                rowNumberCell: 'gchart-table-rownumcell'\n",
       "              }\n",
       "            },\n",
       "            {source_index: 1, fields: 'ParticipantBarcode,SampleBarcode,SampleTypeLetterCode,SampleType,Study,Project,SampleTypeCode,avg_percent_lymphocyte_infiltration,avg_percent_monocyte_infiltration,avg_percent_necrosis,avg_percent_neutrophil_infiltration,avg_percent_normal_cells,avg_percent_stromal_cells,avg_percent_tumor_cells,avg_percent_tumor_nuclei,batch_number,bcr,days_to_collection,days_to_sample_procurement,is_ffpe,max_percent_lymphocyte_infiltration,max_percent_monocyte_infiltration,max_percent_necrosis,max_percent_neutrophil_infiltration,max_percent_normal_cells,max_percent_stromal_cells,max_percent_tumor_cells,max_percent_tumor_nuclei,min_percent_lymphocyte_infiltration,min_percent_monocyte_infiltration,min_percent_necrosis,min_percent_neutrophil_infiltration,min_percent_normal_cells,min_percent_stromal_cells,min_percent_tumor_cells,min_percent_tumor_nuclei,num_portions,num_slides,SampleUUID'},\n",
       "            0,\n",
       "            2);\n",
       "        }\n",
       "      );\n",
       "    </script>\n",
       "  "
      ],
      "text/plain": [
       "QueryResultsTable job_M6yhGej4K0rm-8xcG5nMn810x0k"
      ]
     },
     "execution_count": 6,
     "metadata": {},
     "output_type": "execute_result"
    }
   ],
   "source": [
    "bq.Table('isb-cgc:tcga_201607_beta.Biospecimen_data').sample(count=2)"
   ]
  },
  {
   "cell_type": "markdown",
   "metadata": {},
   "source": [
    "---"
   ]
  },
  {
   "cell_type": "markdown",
   "metadata": {},
   "source": [
    "**Clinical Data:**"
   ]
  },
  {
   "cell_type": "code",
   "execution_count": 7,
   "metadata": {
    "collapsed": false
   },
   "outputs": [
    {
     "data": {
      "text/html": [
       "\n",
       "    <div class=\"bqsv\" id=\"5_147697947834\"></div>\n",
       "    <script>\n",
       "      require(['datalab/bigquery', 'datalab/element!5_147697947834',\n",
       "          'datalab/style!/nbextensions/gcpdatalab/bigquery.css'],\n",
       "        function(bq, dom) {\n",
       "          bq.renderSchema(dom, [{\"type\": \"STRING\", \"name\": \"ParticipantBarcode\"}, {\"type\": \"STRING\", \"name\": \"Study\"}, {\"type\": \"STRING\", \"name\": \"Project\"}, {\"type\": \"STRING\", \"name\": \"ParticipantUUID\"}, {\"type\": \"STRING\", \"name\": \"TSSCode\"}, {\"type\": \"INTEGER\", \"name\": \"age_at_initial_pathologic_diagnosis\"}, {\"type\": \"STRING\", \"name\": \"anatomic_neoplasm_subdivision\"}, {\"type\": \"INTEGER\", \"name\": \"batch_number\"}, {\"type\": \"STRING\", \"name\": \"bcr\"}, {\"type\": \"STRING\", \"name\": \"clinical_M\"}, {\"type\": \"STRING\", \"name\": \"clinical_N\"}, {\"type\": \"STRING\", \"name\": \"clinical_T\"}, {\"type\": \"STRING\", \"name\": \"clinical_stage\"}, {\"type\": \"STRING\", \"name\": \"colorectal_cancer\"}, {\"type\": \"STRING\", \"name\": \"country\"}, {\"type\": \"STRING\", \"name\": \"vital_status\"}, {\"type\": \"INTEGER\", \"name\": \"days_to_birth\"}, {\"type\": \"INTEGER\", \"name\": \"days_to_death\"}, {\"type\": \"INTEGER\", \"name\": \"days_to_last_known_alive\"}, {\"type\": \"INTEGER\", \"name\": \"days_to_last_followup\"}, {\"type\": \"INTEGER\", \"name\": \"days_to_initial_pathologic_diagnosis\"}, {\"type\": \"INTEGER\", \"name\": \"days_to_submitted_specimen_dx\"}, {\"type\": \"STRING\", \"name\": \"ethnicity\"}, {\"type\": \"STRING\", \"name\": \"gender\"}, {\"type\": \"FLOAT\", \"name\": \"gleason_score_combined\"}, {\"type\": \"STRING\", \"name\": \"histological_type\"}, {\"type\": \"STRING\", \"name\": \"history_of_colon_polyps\"}, {\"type\": \"STRING\", \"name\": \"history_of_neoadjuvant_treatment\"}, {\"type\": \"STRING\", \"name\": \"hpv_calls\"}, {\"type\": \"STRING\", \"name\": \"hpv_status\"}, {\"type\": \"STRING\", \"name\": \"icd_10\"}, {\"type\": \"STRING\", \"name\": \"icd_o_3_histology\"}, {\"type\": \"STRING\", \"name\": \"icd_o_3_site\"}, {\"type\": \"STRING\", \"name\": \"lymphatic_invasion\"}, {\"type\": \"STRING\", \"name\": \"lymphnodes_examined\"}, {\"type\": \"STRING\", \"name\": \"lymphovascular_invasion_present\"}, {\"type\": \"STRING\", \"name\": \"menopause_status\"}, {\"type\": \"STRING\", \"name\": \"mononucleotide_and_dinucleotide_marker_panel_analysis_status\"}, {\"type\": \"STRING\", \"name\": \"neoplasm_histologic_grade\"}, {\"type\": \"STRING\", \"name\": \"new_tumor_event_after_initial_treatment\"}, {\"type\": \"FLOAT\", \"name\": \"number_of_lymphnodes_examined\"}, {\"type\": \"FLOAT\", \"name\": \"number_of_lymphnodes_positive_by_he\"}, {\"type\": \"FLOAT\", \"name\": \"number_pack_years_smoked\"}, {\"type\": \"INTEGER\", \"name\": \"year_of_initial_pathologic_diagnosis\"}, {\"type\": \"STRING\", \"name\": \"pathologic_M\"}, {\"type\": \"STRING\", \"name\": \"pathologic_N\"}, {\"type\": \"STRING\", \"name\": \"pathologic_T\"}, {\"type\": \"STRING\", \"name\": \"pathologic_stage\"}, {\"type\": \"STRING\", \"name\": \"person_neoplasm_cancer_status\"}, {\"type\": \"STRING\", \"name\": \"pregnancies\"}, {\"type\": \"STRING\", \"name\": \"primary_neoplasm_melanoma_dx\"}, {\"type\": \"STRING\", \"name\": \"primary_therapy_outcome_success\"}, {\"type\": \"FLOAT\", \"name\": \"psa_value\"}, {\"type\": \"STRING\", \"name\": \"race\"}, {\"type\": \"STRING\", \"name\": \"residual_tumor\"}, {\"type\": \"STRING\", \"name\": \"tobacco_smoking_history\"}, {\"type\": \"STRING\", \"name\": \"tumor_tissue_site\"}, {\"type\": \"STRING\", \"name\": \"tumor_type\"}, {\"type\": \"FLOAT\", \"name\": \"weight\"}, {\"type\": \"FLOAT\", \"name\": \"height\"}, {\"type\": \"FLOAT\", \"name\": \"BMI\"}, {\"type\": \"STRING\", \"name\": \"age_began_smoking_in_years\"}, {\"type\": \"STRING\", \"name\": \"h_pylori_infection\"}, {\"type\": \"STRING\", \"name\": \"other_dx\"}, {\"type\": \"STRING\", \"name\": \"other_malignancy_anatomic_site\"}, {\"type\": \"STRING\", \"name\": \"other_malignancy_histological_type\"}, {\"type\": \"STRING\", \"name\": \"other_malignancy_malignancy_type\"}, {\"type\": \"STRING\", \"name\": \"stopped_smoking_year\"}, {\"type\": \"STRING\", \"name\": \"venous_invasion\"}, {\"type\": \"STRING\", \"name\": \"year_of_tobacco_smoking_onset\"}]);\n",
       "        }\n",
       "      );\n",
       "    </script>\n",
       "    "
      ],
      "text/plain": [
       "[{ 'name': 'ParticipantBarcode', 'type': 'STRING', 'mode':'None', 'description': 'None' },\n",
       " { 'name': 'Study', 'type': 'STRING', 'mode':'None', 'description': 'None' },\n",
       " { 'name': 'Project', 'type': 'STRING', 'mode':'None', 'description': 'None' },\n",
       " { 'name': 'ParticipantUUID', 'type': 'STRING', 'mode':'None', 'description': 'None' },\n",
       " { 'name': 'TSSCode', 'type': 'STRING', 'mode':'None', 'description': 'None' },\n",
       " { 'name': 'age_at_initial_pathologic_diagnosis', 'type': 'INTEGER', 'mode':'None', 'description': 'None' },\n",
       " { 'name': 'anatomic_neoplasm_subdivision', 'type': 'STRING', 'mode':'None', 'description': 'None' },\n",
       " { 'name': 'batch_number', 'type': 'INTEGER', 'mode':'None', 'description': 'None' },\n",
       " { 'name': 'bcr', 'type': 'STRING', 'mode':'None', 'description': 'None' },\n",
       " { 'name': 'clinical_M', 'type': 'STRING', 'mode':'None', 'description': 'None' },\n",
       " { 'name': 'clinical_N', 'type': 'STRING', 'mode':'None', 'description': 'None' },\n",
       " { 'name': 'clinical_T', 'type': 'STRING', 'mode':'None', 'description': 'None' },\n",
       " { 'name': 'clinical_stage', 'type': 'STRING', 'mode':'None', 'description': 'None' },\n",
       " { 'name': 'colorectal_cancer', 'type': 'STRING', 'mode':'None', 'description': 'None' },\n",
       " { 'name': 'country', 'type': 'STRING', 'mode':'None', 'description': 'None' },\n",
       " { 'name': 'vital_status', 'type': 'STRING', 'mode':'None', 'description': 'None' },\n",
       " { 'name': 'days_to_birth', 'type': 'INTEGER', 'mode':'None', 'description': 'None' },\n",
       " { 'name': 'days_to_death', 'type': 'INTEGER', 'mode':'None', 'description': 'None' },\n",
       " { 'name': 'days_to_last_known_alive', 'type': 'INTEGER', 'mode':'None', 'description': 'None' },\n",
       " { 'name': 'days_to_last_followup', 'type': 'INTEGER', 'mode':'None', 'description': 'None' },\n",
       " { 'name': 'days_to_initial_pathologic_diagnosis', 'type': 'INTEGER', 'mode':'None', 'description': 'None' },\n",
       " { 'name': 'days_to_submitted_specimen_dx', 'type': 'INTEGER', 'mode':'None', 'description': 'None' },\n",
       " { 'name': 'ethnicity', 'type': 'STRING', 'mode':'None', 'description': 'None' },\n",
       " { 'name': 'gender', 'type': 'STRING', 'mode':'None', 'description': 'None' },\n",
       " { 'name': 'gleason_score_combined', 'type': 'FLOAT', 'mode':'None', 'description': 'None' },\n",
       " { 'name': 'histological_type', 'type': 'STRING', 'mode':'None', 'description': 'None' },\n",
       " { 'name': 'history_of_colon_polyps', 'type': 'STRING', 'mode':'None', 'description': 'None' },\n",
       " { 'name': 'history_of_neoadjuvant_treatment', 'type': 'STRING', 'mode':'None', 'description': 'None' },\n",
       " { 'name': 'hpv_calls', 'type': 'STRING', 'mode':'None', 'description': 'None' },\n",
       " { 'name': 'hpv_status', 'type': 'STRING', 'mode':'None', 'description': 'None' },\n",
       " { 'name': 'icd_10', 'type': 'STRING', 'mode':'None', 'description': 'None' },\n",
       " { 'name': 'icd_o_3_histology', 'type': 'STRING', 'mode':'None', 'description': 'None' },\n",
       " { 'name': 'icd_o_3_site', 'type': 'STRING', 'mode':'None', 'description': 'None' },\n",
       " { 'name': 'lymphatic_invasion', 'type': 'STRING', 'mode':'None', 'description': 'None' },\n",
       " { 'name': 'lymphnodes_examined', 'type': 'STRING', 'mode':'None', 'description': 'None' },\n",
       " { 'name': 'lymphovascular_invasion_present', 'type': 'STRING', 'mode':'None', 'description': 'None' },\n",
       " { 'name': 'menopause_status', 'type': 'STRING', 'mode':'None', 'description': 'None' },\n",
       " { 'name': 'mononucleotide_and_dinucleotide_marker_panel_analysis_status', 'type': 'STRING', 'mode':'None', 'description': 'None' },\n",
       " { 'name': 'neoplasm_histologic_grade', 'type': 'STRING', 'mode':'None', 'description': 'None' },\n",
       " { 'name': 'new_tumor_event_after_initial_treatment', 'type': 'STRING', 'mode':'None', 'description': 'None' },\n",
       " { 'name': 'number_of_lymphnodes_examined', 'type': 'FLOAT', 'mode':'None', 'description': 'None' },\n",
       " { 'name': 'number_of_lymphnodes_positive_by_he', 'type': 'FLOAT', 'mode':'None', 'description': 'None' },\n",
       " { 'name': 'number_pack_years_smoked', 'type': 'FLOAT', 'mode':'None', 'description': 'None' },\n",
       " { 'name': 'year_of_initial_pathologic_diagnosis', 'type': 'INTEGER', 'mode':'None', 'description': 'None' },\n",
       " { 'name': 'pathologic_M', 'type': 'STRING', 'mode':'None', 'description': 'None' },\n",
       " { 'name': 'pathologic_N', 'type': 'STRING', 'mode':'None', 'description': 'None' },\n",
       " { 'name': 'pathologic_T', 'type': 'STRING', 'mode':'None', 'description': 'None' },\n",
       " { 'name': 'pathologic_stage', 'type': 'STRING', 'mode':'None', 'description': 'None' },\n",
       " { 'name': 'person_neoplasm_cancer_status', 'type': 'STRING', 'mode':'None', 'description': 'None' },\n",
       " { 'name': 'pregnancies', 'type': 'STRING', 'mode':'None', 'description': 'None' },\n",
       " { 'name': 'primary_neoplasm_melanoma_dx', 'type': 'STRING', 'mode':'None', 'description': 'None' },\n",
       " { 'name': 'primary_therapy_outcome_success', 'type': 'STRING', 'mode':'None', 'description': 'None' },\n",
       " { 'name': 'psa_value', 'type': 'FLOAT', 'mode':'None', 'description': 'None' },\n",
       " { 'name': 'race', 'type': 'STRING', 'mode':'None', 'description': 'None' },\n",
       " { 'name': 'residual_tumor', 'type': 'STRING', 'mode':'None', 'description': 'None' },\n",
       " { 'name': 'tobacco_smoking_history', 'type': 'STRING', 'mode':'None', 'description': 'None' },\n",
       " { 'name': 'tumor_tissue_site', 'type': 'STRING', 'mode':'None', 'description': 'None' },\n",
       " { 'name': 'tumor_type', 'type': 'STRING', 'mode':'None', 'description': 'None' },\n",
       " { 'name': 'weight', 'type': 'FLOAT', 'mode':'None', 'description': 'None' },\n",
       " { 'name': 'height', 'type': 'FLOAT', 'mode':'None', 'description': 'None' },\n",
       " { 'name': 'BMI', 'type': 'FLOAT', 'mode':'None', 'description': 'None' },\n",
       " { 'name': 'age_began_smoking_in_years', 'type': 'STRING', 'mode':'None', 'description': 'None' },\n",
       " { 'name': 'h_pylori_infection', 'type': 'STRING', 'mode':'None', 'description': 'None' },\n",
       " { 'name': 'other_dx', 'type': 'STRING', 'mode':'None', 'description': 'None' },\n",
       " { 'name': 'other_malignancy_anatomic_site', 'type': 'STRING', 'mode':'None', 'description': 'None' },\n",
       " { 'name': 'other_malignancy_histological_type', 'type': 'STRING', 'mode':'None', 'description': 'None' },\n",
       " { 'name': 'other_malignancy_malignancy_type', 'type': 'STRING', 'mode':'None', 'description': 'None' },\n",
       " { 'name': 'stopped_smoking_year', 'type': 'STRING', 'mode':'None', 'description': 'None' },\n",
       " { 'name': 'venous_invasion', 'type': 'STRING', 'mode':'None', 'description': 'None' },\n",
       " { 'name': 'year_of_tobacco_smoking_onset', 'type': 'STRING', 'mode':'None', 'description': 'None' }]"
      ]
     },
     "execution_count": 7,
     "metadata": {},
     "output_type": "execute_result"
    }
   ],
   "source": [
    "bq.Table('isb-cgc:tcga_201607_beta.Clinical_data').schema"
   ]
  },
  {
   "cell_type": "code",
   "execution_count": 8,
   "metadata": {
    "collapsed": false
   },
   "outputs": [
    {
     "data": {
      "text/html": [
       "\n",
       "    <div class=\"bqtv\" id=\"6_147697948033\"><table><tr><th>ParticipantBarcode</th><th>Study</th><th>Project</th><th>ParticipantUUID</th><th>TSSCode</th><th>age_at_initial_pathologic_diagnosis</th><th>anatomic_neoplasm_subdivision</th><th>batch_number</th><th>bcr</th><th>clinical_M</th><th>clinical_N</th><th>clinical_T</th><th>clinical_stage</th><th>colorectal_cancer</th><th>country</th><th>vital_status</th><th>days_to_birth</th><th>days_to_death</th><th>days_to_last_known_alive</th><th>days_to_last_followup</th><th>days_to_initial_pathologic_diagnosis</th><th>days_to_submitted_specimen_dx</th><th>ethnicity</th><th>gender</th><th>gleason_score_combined</th><th>histological_type</th><th>history_of_colon_polyps</th><th>history_of_neoadjuvant_treatment</th><th>hpv_calls</th><th>hpv_status</th><th>icd_10</th><th>icd_o_3_histology</th><th>icd_o_3_site</th><th>lymphatic_invasion</th><th>lymphnodes_examined</th><th>lymphovascular_invasion_present</th><th>menopause_status</th><th>mononucleotide_and_dinucleotide_marker_panel_analysis_status</th><th>neoplasm_histologic_grade</th><th>new_tumor_event_after_initial_treatment</th><th>number_of_lymphnodes_examined</th><th>number_of_lymphnodes_positive_by_he</th><th>number_pack_years_smoked</th><th>year_of_initial_pathologic_diagnosis</th><th>pathologic_M</th><th>pathologic_N</th><th>pathologic_T</th><th>pathologic_stage</th><th>person_neoplasm_cancer_status</th><th>pregnancies</th><th>primary_neoplasm_melanoma_dx</th><th>primary_therapy_outcome_success</th><th>psa_value</th><th>race</th><th>residual_tumor</th><th>tobacco_smoking_history</th><th>tumor_tissue_site</th><th>tumor_type</th><th>weight</th><th>height</th><th>BMI</th><th>age_began_smoking_in_years</th><th>h_pylori_infection</th><th>other_dx</th><th>other_malignancy_anatomic_site</th><th>other_malignancy_histological_type</th><th>other_malignancy_malignancy_type</th><th>stopped_smoking_year</th><th>venous_invasion</th><th>year_of_tobacco_smoking_onset</th></tr><tr><td>TCGA-AB-2959</td><td>LAML</td><td>TCGA</td><td>31ac4afd-8195-479a-97da-92edaa89a85e</td><td>AB</td><td>71</td><td>&nbsp;</td><td>25</td><td>Washington University</td><td>&nbsp;</td><td>&nbsp;</td><td>&nbsp;</td><td>&nbsp;</td><td>&nbsp;</td><td>&nbsp;</td><td>Dead</td><td>-26114</td><td>489</td><td>489</td><td>&nbsp;</td><td>0</td><td>&nbsp;</td><td>NOT HISPANIC OR LATINO</td><td>MALE</td><td>&nbsp;</td><td>&nbsp;</td><td>&nbsp;</td><td>No</td><td>&nbsp;</td><td>&nbsp;</td><td>&nbsp;</td><td>&nbsp;</td><td>&nbsp;</td><td>&nbsp;</td><td>&nbsp;</td><td>&nbsp;</td><td>&nbsp;</td><td>&nbsp;</td><td>&nbsp;</td><td>&nbsp;</td><td>&nbsp;</td><td>&nbsp;</td><td>&nbsp;</td><td>2007</td><td>&nbsp;</td><td>&nbsp;</td><td>&nbsp;</td><td>&nbsp;</td><td>&nbsp;</td><td>&nbsp;</td><td>&nbsp;</td><td>&nbsp;</td><td>&nbsp;</td><td>WHITE</td><td>&nbsp;</td><td>&nbsp;</td><td>Bone Marrow</td><td>&nbsp;</td><td>&nbsp;</td><td>&nbsp;</td><td>&nbsp;</td><td>&nbsp;</td><td>&nbsp;</td><td>&nbsp;</td><td>&nbsp;</td><td>&nbsp;</td><td>&nbsp;</td><td>&nbsp;</td><td>&nbsp;</td><td>&nbsp;</td></tr><tr><td>TCGA-AB-2957</td><td>LAML</td><td>TCGA</td><td>c887d68c-da8e-4f15-a524-3b6674b145ed</td><td>AB</td><td>31</td><td>&nbsp;</td><td>25</td><td>Washington University</td><td>&nbsp;</td><td>&nbsp;</td><td>&nbsp;</td><td>&nbsp;</td><td>&nbsp;</td><td>&nbsp;</td><td>Alive</td><td>-11626</td><td>&nbsp;</td><td>609</td><td>609</td><td>0</td><td>&nbsp;</td><td>NOT HISPANIC OR LATINO</td><td>MALE</td><td>&nbsp;</td><td>&nbsp;</td><td>&nbsp;</td><td>Yes</td><td>&nbsp;</td><td>&nbsp;</td><td>&nbsp;</td><td>&nbsp;</td><td>&nbsp;</td><td>&nbsp;</td><td>&nbsp;</td><td>&nbsp;</td><td>&nbsp;</td><td>&nbsp;</td><td>&nbsp;</td><td>&nbsp;</td><td>&nbsp;</td><td>&nbsp;</td><td>&nbsp;</td><td>2007</td><td>&nbsp;</td><td>&nbsp;</td><td>&nbsp;</td><td>&nbsp;</td><td>&nbsp;</td><td>&nbsp;</td><td>&nbsp;</td><td>&nbsp;</td><td>&nbsp;</td><td>WHITE</td><td>&nbsp;</td><td>&nbsp;</td><td>Bone Marrow</td><td>&nbsp;</td><td>&nbsp;</td><td>&nbsp;</td><td>&nbsp;</td><td>&nbsp;</td><td>&nbsp;</td><td>&nbsp;</td><td>&nbsp;</td><td>&nbsp;</td><td>&nbsp;</td><td>&nbsp;</td><td>&nbsp;</td><td>&nbsp;</td></tr></table></div>\n",
       "    <br />(rows: 2, time: 0.7s,     4MB processed, job: job_uCOnA_3BXAJWUwieDZzdZ-zjF44)<br />\n",
       "    <script>\n",
       "\n",
       "      require.config({\n",
       "        paths: {\n",
       "          d3: '//cdnjs.cloudflare.com/ajax/libs/d3/3.4.13/d3',\n",
       "          plotly: 'https://cdn.plot.ly/plotly-1.5.1.min.js?noext',\n",
       "          jquery: '//ajax.googleapis.com/ajax/libs/jquery/2.0.0/jquery.min'\n",
       "        },\n",
       "        map: {\n",
       "          '*': {\n",
       "            datalab: 'nbextensions/gcpdatalab'\n",
       "          }\n",
       "        },\n",
       "        shim: {\n",
       "          plotly: {\n",
       "            deps: ['d3', 'jquery'],\n",
       "            exports: 'plotly'\n",
       "          }\n",
       "        }\n",
       "      });\n",
       "\n",
       "      require(['datalab/charting', 'datalab/element!6_147697948033', 'base/js/events',\n",
       "          'datalab/style!/nbextensions/gcpdatalab/charting.css'],\n",
       "        function(charts, dom, events) {\n",
       "          charts.render('gcharts', dom, events, 'table', [], {\"rows\": [{\"c\": [{\"v\": \"TCGA-AB-2959\"}, {\"v\": \"LAML\"}, {\"v\": \"TCGA\"}, {\"v\": \"31ac4afd-8195-479a-97da-92edaa89a85e\"}, {\"v\": \"AB\"}, {\"v\": 71}, {\"v\": null}, {\"v\": 25}, {\"v\": \"Washington University\"}, {\"v\": null}, {\"v\": null}, {\"v\": null}, {\"v\": null}, {\"v\": null}, {\"v\": null}, {\"v\": \"Dead\"}, {\"v\": -26114}, {\"v\": 489}, {\"v\": 489}, {\"v\": null}, {\"v\": 0}, {\"v\": null}, {\"v\": \"NOT HISPANIC OR LATINO\"}, {\"v\": \"MALE\"}, {\"v\": null}, {\"v\": null}, {\"v\": null}, {\"v\": \"No\"}, {\"v\": null}, {\"v\": null}, {\"v\": null}, {\"v\": null}, {\"v\": null}, {\"v\": null}, {\"v\": null}, {\"v\": null}, {\"v\": null}, {\"v\": null}, {\"v\": null}, {\"v\": null}, {\"v\": null}, {\"v\": null}, {\"v\": null}, {\"v\": 2007}, {\"v\": null}, {\"v\": null}, {\"v\": null}, {\"v\": null}, {\"v\": null}, {\"v\": null}, {\"v\": null}, {\"v\": null}, {\"v\": null}, {\"v\": \"WHITE\"}, {\"v\": null}, {\"v\": null}, {\"v\": \"Bone Marrow\"}, {\"v\": null}, {\"v\": null}, {\"v\": null}, {\"v\": null}, {\"v\": null}, {\"v\": null}, {\"v\": null}, {\"v\": null}, {\"v\": null}, {\"v\": null}, {\"v\": null}, {\"v\": null}, {\"v\": null}]}, {\"c\": [{\"v\": \"TCGA-AB-2957\"}, {\"v\": \"LAML\"}, {\"v\": \"TCGA\"}, {\"v\": \"c887d68c-da8e-4f15-a524-3b6674b145ed\"}, {\"v\": \"AB\"}, {\"v\": 31}, {\"v\": null}, {\"v\": 25}, {\"v\": \"Washington University\"}, {\"v\": null}, {\"v\": null}, {\"v\": null}, {\"v\": null}, {\"v\": null}, {\"v\": null}, {\"v\": \"Alive\"}, {\"v\": -11626}, {\"v\": null}, {\"v\": 609}, {\"v\": 609}, {\"v\": 0}, {\"v\": null}, {\"v\": \"NOT HISPANIC OR LATINO\"}, {\"v\": \"MALE\"}, {\"v\": null}, {\"v\": null}, {\"v\": null}, {\"v\": \"Yes\"}, {\"v\": null}, {\"v\": null}, {\"v\": null}, {\"v\": null}, {\"v\": null}, {\"v\": null}, {\"v\": null}, {\"v\": null}, {\"v\": null}, {\"v\": null}, {\"v\": null}, {\"v\": null}, {\"v\": null}, {\"v\": null}, {\"v\": null}, {\"v\": 2007}, {\"v\": null}, {\"v\": null}, {\"v\": null}, {\"v\": null}, {\"v\": null}, {\"v\": null}, {\"v\": null}, {\"v\": null}, {\"v\": null}, {\"v\": \"WHITE\"}, {\"v\": null}, {\"v\": null}, {\"v\": \"Bone Marrow\"}, {\"v\": null}, {\"v\": null}, {\"v\": null}, {\"v\": null}, {\"v\": null}, {\"v\": null}, {\"v\": null}, {\"v\": null}, {\"v\": null}, {\"v\": null}, {\"v\": null}, {\"v\": null}, {\"v\": null}]}], \"cols\": [{\"type\": \"string\", \"id\": \"ParticipantBarcode\", \"label\": \"ParticipantBarcode\"}, {\"type\": \"string\", \"id\": \"Study\", \"label\": \"Study\"}, {\"type\": \"string\", \"id\": \"Project\", \"label\": \"Project\"}, {\"type\": \"string\", \"id\": \"ParticipantUUID\", \"label\": \"ParticipantUUID\"}, {\"type\": \"string\", \"id\": \"TSSCode\", \"label\": \"TSSCode\"}, {\"type\": \"number\", \"id\": \"age_at_initial_pathologic_diagnosis\", \"label\": \"age_at_initial_pathologic_diagnosis\"}, {\"type\": \"string\", \"id\": \"anatomic_neoplasm_subdivision\", \"label\": \"anatomic_neoplasm_subdivision\"}, {\"type\": \"number\", \"id\": \"batch_number\", \"label\": \"batch_number\"}, {\"type\": \"string\", \"id\": \"bcr\", \"label\": \"bcr\"}, {\"type\": \"string\", \"id\": \"clinical_M\", \"label\": \"clinical_M\"}, {\"type\": \"string\", \"id\": \"clinical_N\", \"label\": \"clinical_N\"}, {\"type\": \"string\", \"id\": \"clinical_T\", \"label\": \"clinical_T\"}, {\"type\": \"string\", \"id\": \"clinical_stage\", \"label\": \"clinical_stage\"}, {\"type\": \"string\", \"id\": \"colorectal_cancer\", \"label\": \"colorectal_cancer\"}, {\"type\": \"string\", \"id\": \"country\", \"label\": \"country\"}, {\"type\": \"string\", \"id\": \"vital_status\", \"label\": \"vital_status\"}, {\"type\": \"number\", \"id\": \"days_to_birth\", \"label\": \"days_to_birth\"}, {\"type\": \"number\", \"id\": \"days_to_death\", \"label\": \"days_to_death\"}, {\"type\": \"number\", \"id\": \"days_to_last_known_alive\", \"label\": \"days_to_last_known_alive\"}, {\"type\": \"number\", \"id\": \"days_to_last_followup\", \"label\": \"days_to_last_followup\"}, {\"type\": \"number\", \"id\": \"days_to_initial_pathologic_diagnosis\", \"label\": \"days_to_initial_pathologic_diagnosis\"}, {\"type\": \"number\", \"id\": \"days_to_submitted_specimen_dx\", \"label\": \"days_to_submitted_specimen_dx\"}, {\"type\": \"string\", \"id\": \"ethnicity\", \"label\": \"ethnicity\"}, {\"type\": \"string\", \"id\": \"gender\", \"label\": \"gender\"}, {\"type\": \"number\", \"id\": \"gleason_score_combined\", \"label\": \"gleason_score_combined\"}, {\"type\": \"string\", \"id\": \"histological_type\", \"label\": \"histological_type\"}, {\"type\": \"string\", \"id\": \"history_of_colon_polyps\", \"label\": \"history_of_colon_polyps\"}, {\"type\": \"string\", \"id\": \"history_of_neoadjuvant_treatment\", \"label\": \"history_of_neoadjuvant_treatment\"}, {\"type\": \"string\", \"id\": \"hpv_calls\", \"label\": \"hpv_calls\"}, {\"type\": \"string\", \"id\": \"hpv_status\", \"label\": \"hpv_status\"}, {\"type\": \"string\", \"id\": \"icd_10\", \"label\": \"icd_10\"}, {\"type\": \"string\", \"id\": \"icd_o_3_histology\", \"label\": \"icd_o_3_histology\"}, {\"type\": \"string\", \"id\": \"icd_o_3_site\", \"label\": \"icd_o_3_site\"}, {\"type\": \"string\", \"id\": \"lymphatic_invasion\", \"label\": \"lymphatic_invasion\"}, {\"type\": \"string\", \"id\": \"lymphnodes_examined\", \"label\": \"lymphnodes_examined\"}, {\"type\": \"string\", \"id\": \"lymphovascular_invasion_present\", \"label\": \"lymphovascular_invasion_present\"}, {\"type\": \"string\", \"id\": \"menopause_status\", \"label\": \"menopause_status\"}, {\"type\": \"string\", \"id\": \"mononucleotide_and_dinucleotide_marker_panel_analysis_status\", \"label\": \"mononucleotide_and_dinucleotide_marker_panel_analysis_status\"}, {\"type\": \"string\", \"id\": \"neoplasm_histologic_grade\", \"label\": \"neoplasm_histologic_grade\"}, {\"type\": \"string\", \"id\": \"new_tumor_event_after_initial_treatment\", \"label\": \"new_tumor_event_after_initial_treatment\"}, {\"type\": \"number\", \"id\": \"number_of_lymphnodes_examined\", \"label\": \"number_of_lymphnodes_examined\"}, {\"type\": \"number\", \"id\": \"number_of_lymphnodes_positive_by_he\", \"label\": \"number_of_lymphnodes_positive_by_he\"}, {\"type\": \"number\", \"id\": \"number_pack_years_smoked\", \"label\": \"number_pack_years_smoked\"}, {\"type\": \"number\", \"id\": \"year_of_initial_pathologic_diagnosis\", \"label\": \"year_of_initial_pathologic_diagnosis\"}, {\"type\": \"string\", \"id\": \"pathologic_M\", \"label\": \"pathologic_M\"}, {\"type\": \"string\", \"id\": \"pathologic_N\", \"label\": \"pathologic_N\"}, {\"type\": \"string\", \"id\": \"pathologic_T\", \"label\": \"pathologic_T\"}, {\"type\": \"string\", \"id\": \"pathologic_stage\", \"label\": \"pathologic_stage\"}, {\"type\": \"string\", \"id\": \"person_neoplasm_cancer_status\", \"label\": \"person_neoplasm_cancer_status\"}, {\"type\": \"string\", \"id\": \"pregnancies\", \"label\": \"pregnancies\"}, {\"type\": \"string\", \"id\": \"primary_neoplasm_melanoma_dx\", \"label\": \"primary_neoplasm_melanoma_dx\"}, {\"type\": \"string\", \"id\": \"primary_therapy_outcome_success\", \"label\": \"primary_therapy_outcome_success\"}, {\"type\": \"number\", \"id\": \"psa_value\", \"label\": \"psa_value\"}, {\"type\": \"string\", \"id\": \"race\", \"label\": \"race\"}, {\"type\": \"string\", \"id\": \"residual_tumor\", \"label\": \"residual_tumor\"}, {\"type\": \"string\", \"id\": \"tobacco_smoking_history\", \"label\": \"tobacco_smoking_history\"}, {\"type\": \"string\", \"id\": \"tumor_tissue_site\", \"label\": \"tumor_tissue_site\"}, {\"type\": \"string\", \"id\": \"tumor_type\", \"label\": \"tumor_type\"}, {\"type\": \"number\", \"id\": \"weight\", \"label\": \"weight\"}, {\"type\": \"number\", \"id\": \"height\", \"label\": \"height\"}, {\"type\": \"number\", \"id\": \"BMI\", \"label\": \"BMI\"}, {\"type\": \"string\", \"id\": \"age_began_smoking_in_years\", \"label\": \"age_began_smoking_in_years\"}, {\"type\": \"string\", \"id\": \"h_pylori_infection\", \"label\": \"h_pylori_infection\"}, {\"type\": \"string\", \"id\": \"other_dx\", \"label\": \"other_dx\"}, {\"type\": \"string\", \"id\": \"other_malignancy_anatomic_site\", \"label\": \"other_malignancy_anatomic_site\"}, {\"type\": \"string\", \"id\": \"other_malignancy_histological_type\", \"label\": \"other_malignancy_histological_type\"}, {\"type\": \"string\", \"id\": \"other_malignancy_malignancy_type\", \"label\": \"other_malignancy_malignancy_type\"}, {\"type\": \"string\", \"id\": \"stopped_smoking_year\", \"label\": \"stopped_smoking_year\"}, {\"type\": \"string\", \"id\": \"venous_invasion\", \"label\": \"venous_invasion\"}, {\"type\": \"string\", \"id\": \"year_of_tobacco_smoking_onset\", \"label\": \"year_of_tobacco_smoking_onset\"}]},\n",
       "            {\n",
       "              pageSize: 25,\n",
       "              cssClassNames:  {\n",
       "                tableRow: 'gchart-table-row',\n",
       "                headerRow: 'gchart-table-headerrow',\n",
       "                oddTableRow: 'gchart-table-oddrow',\n",
       "                selectedTableRow: 'gchart-table-selectedrow',\n",
       "                hoverTableRow: 'gchart-table-hoverrow',\n",
       "                tableCell: 'gchart-table-cell',\n",
       "                headerCell: 'gchart-table-headercell',\n",
       "                rowNumberCell: 'gchart-table-rownumcell'\n",
       "              }\n",
       "            },\n",
       "            {source_index: 2, fields: 'ParticipantBarcode,Study,Project,ParticipantUUID,TSSCode,age_at_initial_pathologic_diagnosis,anatomic_neoplasm_subdivision,batch_number,bcr,clinical_M,clinical_N,clinical_T,clinical_stage,colorectal_cancer,country,vital_status,days_to_birth,days_to_death,days_to_last_known_alive,days_to_last_followup,days_to_initial_pathologic_diagnosis,days_to_submitted_specimen_dx,ethnicity,gender,gleason_score_combined,histological_type,history_of_colon_polyps,history_of_neoadjuvant_treatment,hpv_calls,hpv_status,icd_10,icd_o_3_histology,icd_o_3_site,lymphatic_invasion,lymphnodes_examined,lymphovascular_invasion_present,menopause_status,mononucleotide_and_dinucleotide_marker_panel_analysis_status,neoplasm_histologic_grade,new_tumor_event_after_initial_treatment,number_of_lymphnodes_examined,number_of_lymphnodes_positive_by_he,number_pack_years_smoked,year_of_initial_pathologic_diagnosis,pathologic_M,pathologic_N,pathologic_T,pathologic_stage,person_neoplasm_cancer_status,pregnancies,primary_neoplasm_melanoma_dx,primary_therapy_outcome_success,psa_value,race,residual_tumor,tobacco_smoking_history,tumor_tissue_site,tumor_type,weight,height,BMI,age_began_smoking_in_years,h_pylori_infection,other_dx,other_malignancy_anatomic_site,other_malignancy_histological_type,other_malignancy_malignancy_type,stopped_smoking_year,venous_invasion,year_of_tobacco_smoking_onset'},\n",
       "            0,\n",
       "            2);\n",
       "        }\n",
       "      );\n",
       "    </script>\n",
       "  "
      ],
      "text/plain": [
       "QueryResultsTable job_uCOnA_3BXAJWUwieDZzdZ-zjF44"
      ]
     },
     "execution_count": 8,
     "metadata": {},
     "output_type": "execute_result"
    }
   ],
   "source": [
    "bq.Table('isb-cgc:tcga_201607_beta.Clinical_data').sample(count=2)"
   ]
  },
  {
   "cell_type": "markdown",
   "metadata": {},
   "source": [
    "---"
   ]
  },
  {
   "cell_type": "markdown",
   "metadata": {},
   "source": [
    "**mRNA Expression data: **"
   ]
  },
  {
   "cell_type": "code",
   "execution_count": 9,
   "metadata": {
    "collapsed": false
   },
   "outputs": [
    {
     "data": {
      "text/html": [
       "\n",
       "    <div class=\"bqsv\" id=\"7_147697948132\"></div>\n",
       "    <script>\n",
       "      require(['datalab/bigquery', 'datalab/element!7_147697948132',\n",
       "          'datalab/style!/nbextensions/gcpdatalab/bigquery.css'],\n",
       "        function(bq, dom) {\n",
       "          bq.renderSchema(dom, [{\"type\": \"STRING\", \"name\": \"ParticipantBarcode\"}, {\"type\": \"STRING\", \"name\": \"SampleBarcode\"}, {\"type\": \"STRING\", \"name\": \"AliquotBarcode\"}, {\"type\": \"STRING\", \"name\": \"Study\"}, {\"type\": \"STRING\", \"name\": \"SampleTypeLetterCode\"}, {\"type\": \"STRING\", \"name\": \"Platform\"}, {\"type\": \"STRING\", \"name\": \"original_gene_symbol\"}, {\"type\": \"STRING\", \"name\": \"HGNC_gene_symbol\"}, {\"type\": \"INTEGER\", \"name\": \"gene_id\"}, {\"type\": \"FLOAT\", \"name\": \"normalized_count\"}]);\n",
       "        }\n",
       "      );\n",
       "    </script>\n",
       "    "
      ],
      "text/plain": [
       "[{ 'name': 'ParticipantBarcode', 'type': 'STRING', 'mode':'None', 'description': 'None' },\n",
       " { 'name': 'SampleBarcode', 'type': 'STRING', 'mode':'None', 'description': 'None' },\n",
       " { 'name': 'AliquotBarcode', 'type': 'STRING', 'mode':'None', 'description': 'None' },\n",
       " { 'name': 'Study', 'type': 'STRING', 'mode':'None', 'description': 'None' },\n",
       " { 'name': 'SampleTypeLetterCode', 'type': 'STRING', 'mode':'None', 'description': 'None' },\n",
       " { 'name': 'Platform', 'type': 'STRING', 'mode':'None', 'description': 'None' },\n",
       " { 'name': 'original_gene_symbol', 'type': 'STRING', 'mode':'None', 'description': 'None' },\n",
       " { 'name': 'HGNC_gene_symbol', 'type': 'STRING', 'mode':'None', 'description': 'None' },\n",
       " { 'name': 'gene_id', 'type': 'INTEGER', 'mode':'None', 'description': 'None' },\n",
       " { 'name': 'normalized_count', 'type': 'FLOAT', 'mode':'None', 'description': 'None' }]"
      ]
     },
     "execution_count": 9,
     "metadata": {},
     "output_type": "execute_result"
    }
   ],
   "source": [
    "bq.Table('isb-cgc:tcga_201607_beta.mRNA_UNC_HiSeq_RSEM').schema"
   ]
  },
  {
   "cell_type": "code",
   "execution_count": 10,
   "metadata": {
    "collapsed": false
   },
   "outputs": [
    {
     "data": {
      "text/html": [
       "\n",
       "    <div class=\"bqtv\" id=\"8_147697948752\"><table><tr><th>ParticipantBarcode</th><th>SampleBarcode</th><th>AliquotBarcode</th><th>Study</th><th>SampleTypeLetterCode</th><th>Platform</th><th>original_gene_symbol</th><th>HGNC_gene_symbol</th><th>gene_id</th><th>normalized_count</th></tr><tr><td>TCGA-04-1348</td><td>TCGA-04-1348-01A</td><td>TCGA-04-1348-01A-01R-1565-13</td><td>OV</td><td>TP</td><td>IlluminaHiSeq</td><td>AADACL2</td><td>AADACL2</td><td>344752</td><td>0.0</td></tr><tr><td>TCGA-04-1348</td><td>TCGA-04-1348-01A</td><td>TCGA-04-1348-01A-01R-1565-13</td><td>OV</td><td>TP</td><td>IlluminaHiSeq</td><td>ABCA5</td><td>ABCA5</td><td>23461</td><td>62.6513</td></tr></table></div>\n",
       "    <br />(rows: 2, time: 4.4s,    24GB processed, job: job_vYhouT-xziYytrQHluTBpcqCu0o)<br />\n",
       "    <script>\n",
       "\n",
       "      require.config({\n",
       "        paths: {\n",
       "          d3: '//cdnjs.cloudflare.com/ajax/libs/d3/3.4.13/d3',\n",
       "          plotly: 'https://cdn.plot.ly/plotly-1.5.1.min.js?noext',\n",
       "          jquery: '//ajax.googleapis.com/ajax/libs/jquery/2.0.0/jquery.min'\n",
       "        },\n",
       "        map: {\n",
       "          '*': {\n",
       "            datalab: 'nbextensions/gcpdatalab'\n",
       "          }\n",
       "        },\n",
       "        shim: {\n",
       "          plotly: {\n",
       "            deps: ['d3', 'jquery'],\n",
       "            exports: 'plotly'\n",
       "          }\n",
       "        }\n",
       "      });\n",
       "\n",
       "      require(['datalab/charting', 'datalab/element!8_147697948752', 'base/js/events',\n",
       "          'datalab/style!/nbextensions/gcpdatalab/charting.css'],\n",
       "        function(charts, dom, events) {\n",
       "          charts.render('gcharts', dom, events, 'table', [], {\"rows\": [{\"c\": [{\"v\": \"TCGA-04-1348\"}, {\"v\": \"TCGA-04-1348-01A\"}, {\"v\": \"TCGA-04-1348-01A-01R-1565-13\"}, {\"v\": \"OV\"}, {\"v\": \"TP\"}, {\"v\": \"IlluminaHiSeq\"}, {\"v\": \"AADACL2\"}, {\"v\": \"AADACL2\"}, {\"v\": 344752}, {\"v\": 0.0}]}, {\"c\": [{\"v\": \"TCGA-04-1348\"}, {\"v\": \"TCGA-04-1348-01A\"}, {\"v\": \"TCGA-04-1348-01A-01R-1565-13\"}, {\"v\": \"OV\"}, {\"v\": \"TP\"}, {\"v\": \"IlluminaHiSeq\"}, {\"v\": \"ABCA5\"}, {\"v\": \"ABCA5\"}, {\"v\": 23461}, {\"v\": 62.6513}]}], \"cols\": [{\"type\": \"string\", \"id\": \"ParticipantBarcode\", \"label\": \"ParticipantBarcode\"}, {\"type\": \"string\", \"id\": \"SampleBarcode\", \"label\": \"SampleBarcode\"}, {\"type\": \"string\", \"id\": \"AliquotBarcode\", \"label\": \"AliquotBarcode\"}, {\"type\": \"string\", \"id\": \"Study\", \"label\": \"Study\"}, {\"type\": \"string\", \"id\": \"SampleTypeLetterCode\", \"label\": \"SampleTypeLetterCode\"}, {\"type\": \"string\", \"id\": \"Platform\", \"label\": \"Platform\"}, {\"type\": \"string\", \"id\": \"original_gene_symbol\", \"label\": \"original_gene_symbol\"}, {\"type\": \"string\", \"id\": \"HGNC_gene_symbol\", \"label\": \"HGNC_gene_symbol\"}, {\"type\": \"number\", \"id\": \"gene_id\", \"label\": \"gene_id\"}, {\"type\": \"number\", \"id\": \"normalized_count\", \"label\": \"normalized_count\"}]},\n",
       "            {\n",
       "              pageSize: 25,\n",
       "              cssClassNames:  {\n",
       "                tableRow: 'gchart-table-row',\n",
       "                headerRow: 'gchart-table-headerrow',\n",
       "                oddTableRow: 'gchart-table-oddrow',\n",
       "                selectedTableRow: 'gchart-table-selectedrow',\n",
       "                hoverTableRow: 'gchart-table-hoverrow',\n",
       "                tableCell: 'gchart-table-cell',\n",
       "                headerCell: 'gchart-table-headercell',\n",
       "                rowNumberCell: 'gchart-table-rownumcell'\n",
       "              }\n",
       "            },\n",
       "            {source_index: 3, fields: 'ParticipantBarcode,SampleBarcode,AliquotBarcode,Study,SampleTypeLetterCode,Platform,original_gene_symbol,HGNC_gene_symbol,gene_id,normalized_count'},\n",
       "            0,\n",
       "            2);\n",
       "        }\n",
       "      );\n",
       "    </script>\n",
       "  "
      ],
      "text/plain": [
       "QueryResultsTable job_vYhouT-xziYytrQHluTBpcqCu0o"
      ]
     },
     "execution_count": 10,
     "metadata": {},
     "output_type": "execute_result"
    }
   ],
   "source": [
    "bq.Table('isb-cgc:tcga_201607_beta.mRNA_UNC_HiSeq_RSEM').sample(count=2)"
   ]
  },
  {
   "cell_type": "code",
   "execution_count": 11,
   "metadata": {
    "collapsed": false
   },
   "outputs": [
    {
     "name": "stdout",
     "output_type": "stream",
     "text": [
      "[{u'type': u'STRING', u'name': u'ParticipantBarcode'}, {u'type': u'STRING', u'name': u'SampleBarcode'}, {u'type': u'STRING', u'name': u'AliquotBarcode'}, {u'type': u'STRING', u'name': u'Study'}, {u'type': u'STRING', u'name': u'SampleTypeLetterCode'}, {u'type': u'STRING', u'name': u'Platform'}, {u'type': u'STRING', u'name': u'original_gene_symbol'}, {u'type': u'STRING', u'name': u'HGNC_gene_symbol'}, {u'type': u'INTEGER', u'name': u'gene_id'}, {u'type': u'FLOAT', u'name': u'normalized_count'}]\n"
     ]
    }
   ],
   "source": [
    "print bq.Table('isb-cgc:tcga_201607_beta.mRNA_UNC_HiSeq_RSEM').schema"
   ]
  },
  {
   "cell_type": "markdown",
   "metadata": {},
   "source": [
    "### Domain knowledge\n",
    "---"
   ]
  },
  {
   "cell_type": "markdown",
   "metadata": {},
   "source": [
    "While my PhD is in cancer biology, I studied melanoma (a type of skin cancer).  I'm familiar with the proper resources to fill in gaps in knowledge (PubMed).  I need to conduct additional research on how to normalize mRNA expression data.  \n",
    "\n",
    "Resources:\n",
    "- Tutorial: Machine Learning For Cancer Classification - Part 1 - Preparing The Data Sets https://www.biostars.org/p/85124/\n",
    "- Tutorial: Machine Learning For Cancer Classification - Part 2 - Building A Random Forest Classifier https://www.biostars.org/p/86981/\n",
    "- Tutorial: Machine Learning For Cancer Classification - Part 3 - Predicting With A Random Forest Classifier https://www.biostars.org/p/87110/\n",
    "- Tutorial: Machine Learning For Cancer Classification - Part 4 - Plotting A Kaplan-Meier Curve For Survival Analysis https://www.biostars.org/p/87580/\n",
    "- Seq-ing improved gene expression estimates from microarrays using machine learning https://bmcbioinformatics.biomedcentral.com/articles/10.1186/s12859-015-0712-z\n",
    "\n"
   ]
  },
  {
   "cell_type": "markdown",
   "metadata": {},
   "source": [
    "### Project Concerns\n",
    "---"
   ]
  },
  {
   "cell_type": "markdown",
   "metadata": {},
   "source": [
    "- Given time, what's a reasonable, attainable goal?\n",
    "- How should I further narrow the scope of the project without losing the project's appeal (to me)?\n",
    "- Ensuring results are scientifically sound\n",
    "    - trying to pinpoint the correct way to normalize the mRNA expression data\n",
    "- Finding the best references to which I can compare my results\n"
   ]
  },
  {
   "cell_type": "markdown",
   "metadata": {},
   "source": [
    "### Outcomes\n",
    "---"
   ]
  },
  {
   "cell_type": "markdown",
   "metadata": {},
   "source": [
    "I expect the outcomes to hopefully mirror previous research.  I believe that this will be a marker of success.  Any deviations from what has been published should at least make biological sense.  If the project is a bust, which, I believe may be due to mRNA expression issues,then i will see what can be uncovered solely from the clinical data.  My target audience would be other scientists and people interested in cancer research. \n"
   ]
  },
  {
   "cell_type": "markdown",
   "metadata": {},
   "source": []
  },
  {
   "cell_type": "markdown",
   "metadata": {},
   "source": []
  },
  {
   "cell_type": "markdown",
   "metadata": {},
   "source": []
  },
  {
   "cell_type": "markdown",
   "metadata": {},
   "source": []
  },
  {
   "cell_type": "markdown",
   "metadata": {},
   "source": []
  },
  {
   "cell_type": "markdown",
   "metadata": {},
   "source": []
  },
  {
   "cell_type": "markdown",
   "metadata": {},
   "source": [
    "----\n",
    "early data exploration:"
   ]
  },
  {
   "cell_type": "code",
   "execution_count": 12,
   "metadata": {
    "collapsed": false
   },
   "outputs": [
    {
     "data": {
      "text/html": [
       "\n",
       "    <div class=\"bqtv\" id=\"9_147697948971\"><table><tr><th>ParticipantBarcode</th><th>Study</th><th>Project</th><th>ParticipantUUID</th><th>TSSCode</th><th>age_at_initial_pathologic_diagnosis</th><th>anatomic_neoplasm_subdivision</th><th>batch_number</th><th>bcr</th><th>clinical_M</th><th>clinical_N</th><th>clinical_T</th><th>clinical_stage</th><th>colorectal_cancer</th><th>country</th><th>vital_status</th><th>days_to_birth</th><th>days_to_death</th><th>days_to_last_known_alive</th><th>days_to_last_followup</th><th>days_to_initial_pathologic_diagnosis</th><th>days_to_submitted_specimen_dx</th><th>ethnicity</th><th>gender</th><th>gleason_score_combined</th><th>histological_type</th><th>history_of_colon_polyps</th><th>history_of_neoadjuvant_treatment</th><th>hpv_calls</th><th>hpv_status</th><th>icd_10</th><th>icd_o_3_histology</th><th>icd_o_3_site</th><th>lymphatic_invasion</th><th>lymphnodes_examined</th><th>lymphovascular_invasion_present</th><th>menopause_status</th><th>mononucleotide_and_dinucleotide_marker_panel_analysis_status</th><th>neoplasm_histologic_grade</th><th>new_tumor_event_after_initial_treatment</th><th>number_of_lymphnodes_examined</th><th>number_of_lymphnodes_positive_by_he</th><th>number_pack_years_smoked</th><th>year_of_initial_pathologic_diagnosis</th><th>pathologic_M</th><th>pathologic_N</th><th>pathologic_T</th><th>pathologic_stage</th><th>person_neoplasm_cancer_status</th><th>pregnancies</th><th>primary_neoplasm_melanoma_dx</th><th>primary_therapy_outcome_success</th><th>psa_value</th><th>race</th><th>residual_tumor</th><th>tobacco_smoking_history</th><th>tumor_tissue_site</th><th>tumor_type</th><th>weight</th><th>height</th><th>BMI</th><th>age_began_smoking_in_years</th><th>h_pylori_infection</th><th>other_dx</th><th>other_malignancy_anatomic_site</th><th>other_malignancy_histological_type</th><th>other_malignancy_malignancy_type</th><th>stopped_smoking_year</th><th>venous_invasion</th><th>year_of_tobacco_smoking_onset</th></tr><tr><td>TCGA-AB-2959</td><td>LAML</td><td>TCGA</td><td>31ac4afd-8195-479a-97da-92edaa89a85e</td><td>AB</td><td>71</td><td>&nbsp;</td><td>25</td><td>Washington University</td><td>&nbsp;</td><td>&nbsp;</td><td>&nbsp;</td><td>&nbsp;</td><td>&nbsp;</td><td>&nbsp;</td><td>Dead</td><td>-26114</td><td>489</td><td>489</td><td>&nbsp;</td><td>0</td><td>&nbsp;</td><td>NOT HISPANIC OR LATINO</td><td>MALE</td><td>&nbsp;</td><td>&nbsp;</td><td>&nbsp;</td><td>No</td><td>&nbsp;</td><td>&nbsp;</td><td>&nbsp;</td><td>&nbsp;</td><td>&nbsp;</td><td>&nbsp;</td><td>&nbsp;</td><td>&nbsp;</td><td>&nbsp;</td><td>&nbsp;</td><td>&nbsp;</td><td>&nbsp;</td><td>&nbsp;</td><td>&nbsp;</td><td>&nbsp;</td><td>2007</td><td>&nbsp;</td><td>&nbsp;</td><td>&nbsp;</td><td>&nbsp;</td><td>&nbsp;</td><td>&nbsp;</td><td>&nbsp;</td><td>&nbsp;</td><td>&nbsp;</td><td>WHITE</td><td>&nbsp;</td><td>&nbsp;</td><td>Bone Marrow</td><td>&nbsp;</td><td>&nbsp;</td><td>&nbsp;</td><td>&nbsp;</td><td>&nbsp;</td><td>&nbsp;</td><td>&nbsp;</td><td>&nbsp;</td><td>&nbsp;</td><td>&nbsp;</td><td>&nbsp;</td><td>&nbsp;</td><td>&nbsp;</td></tr><tr><td>TCGA-AB-2957</td><td>LAML</td><td>TCGA</td><td>c887d68c-da8e-4f15-a524-3b6674b145ed</td><td>AB</td><td>31</td><td>&nbsp;</td><td>25</td><td>Washington University</td><td>&nbsp;</td><td>&nbsp;</td><td>&nbsp;</td><td>&nbsp;</td><td>&nbsp;</td><td>&nbsp;</td><td>Alive</td><td>-11626</td><td>&nbsp;</td><td>609</td><td>609</td><td>0</td><td>&nbsp;</td><td>NOT HISPANIC OR LATINO</td><td>MALE</td><td>&nbsp;</td><td>&nbsp;</td><td>&nbsp;</td><td>Yes</td><td>&nbsp;</td><td>&nbsp;</td><td>&nbsp;</td><td>&nbsp;</td><td>&nbsp;</td><td>&nbsp;</td><td>&nbsp;</td><td>&nbsp;</td><td>&nbsp;</td><td>&nbsp;</td><td>&nbsp;</td><td>&nbsp;</td><td>&nbsp;</td><td>&nbsp;</td><td>&nbsp;</td><td>2007</td><td>&nbsp;</td><td>&nbsp;</td><td>&nbsp;</td><td>&nbsp;</td><td>&nbsp;</td><td>&nbsp;</td><td>&nbsp;</td><td>&nbsp;</td><td>&nbsp;</td><td>WHITE</td><td>&nbsp;</td><td>&nbsp;</td><td>Bone Marrow</td><td>&nbsp;</td><td>&nbsp;</td><td>&nbsp;</td><td>&nbsp;</td><td>&nbsp;</td><td>&nbsp;</td><td>&nbsp;</td><td>&nbsp;</td><td>&nbsp;</td><td>&nbsp;</td><td>&nbsp;</td><td>&nbsp;</td><td>&nbsp;</td></tr></table></div>\n",
       "    <br />(rows: 2, time: 0.1s, cached, job: job_Xcxu_9jGrp4tlbQ6iA7MSerrBnQ)<br />\n",
       "    <script>\n",
       "\n",
       "      require.config({\n",
       "        paths: {\n",
       "          d3: '//cdnjs.cloudflare.com/ajax/libs/d3/3.4.13/d3',\n",
       "          plotly: 'https://cdn.plot.ly/plotly-1.5.1.min.js?noext',\n",
       "          jquery: '//ajax.googleapis.com/ajax/libs/jquery/2.0.0/jquery.min'\n",
       "        },\n",
       "        map: {\n",
       "          '*': {\n",
       "            datalab: 'nbextensions/gcpdatalab'\n",
       "          }\n",
       "        },\n",
       "        shim: {\n",
       "          plotly: {\n",
       "            deps: ['d3', 'jquery'],\n",
       "            exports: 'plotly'\n",
       "          }\n",
       "        }\n",
       "      });\n",
       "\n",
       "      require(['datalab/charting', 'datalab/element!9_147697948971', 'base/js/events',\n",
       "          'datalab/style!/nbextensions/gcpdatalab/charting.css'],\n",
       "        function(charts, dom, events) {\n",
       "          charts.render('gcharts', dom, events, 'table', [], {\"rows\": [{\"c\": [{\"v\": \"TCGA-AB-2959\"}, {\"v\": \"LAML\"}, {\"v\": \"TCGA\"}, {\"v\": \"31ac4afd-8195-479a-97da-92edaa89a85e\"}, {\"v\": \"AB\"}, {\"v\": 71}, {\"v\": null}, {\"v\": 25}, {\"v\": \"Washington University\"}, {\"v\": null}, {\"v\": null}, {\"v\": null}, {\"v\": null}, {\"v\": null}, {\"v\": null}, {\"v\": \"Dead\"}, {\"v\": -26114}, {\"v\": 489}, {\"v\": 489}, {\"v\": null}, {\"v\": 0}, {\"v\": null}, {\"v\": \"NOT HISPANIC OR LATINO\"}, {\"v\": \"MALE\"}, {\"v\": null}, {\"v\": null}, {\"v\": null}, {\"v\": \"No\"}, {\"v\": null}, {\"v\": null}, {\"v\": null}, {\"v\": null}, {\"v\": null}, {\"v\": null}, {\"v\": null}, {\"v\": null}, {\"v\": null}, {\"v\": null}, {\"v\": null}, {\"v\": null}, {\"v\": null}, {\"v\": null}, {\"v\": null}, {\"v\": 2007}, {\"v\": null}, {\"v\": null}, {\"v\": null}, {\"v\": null}, {\"v\": null}, {\"v\": null}, {\"v\": null}, {\"v\": null}, {\"v\": null}, {\"v\": \"WHITE\"}, {\"v\": null}, {\"v\": null}, {\"v\": \"Bone Marrow\"}, {\"v\": null}, {\"v\": null}, {\"v\": null}, {\"v\": null}, {\"v\": null}, {\"v\": null}, {\"v\": null}, {\"v\": null}, {\"v\": null}, {\"v\": null}, {\"v\": null}, {\"v\": null}, {\"v\": null}]}, {\"c\": [{\"v\": \"TCGA-AB-2957\"}, {\"v\": \"LAML\"}, {\"v\": \"TCGA\"}, {\"v\": \"c887d68c-da8e-4f15-a524-3b6674b145ed\"}, {\"v\": \"AB\"}, {\"v\": 31}, {\"v\": null}, {\"v\": 25}, {\"v\": \"Washington University\"}, {\"v\": null}, {\"v\": null}, {\"v\": null}, {\"v\": null}, {\"v\": null}, {\"v\": null}, {\"v\": \"Alive\"}, {\"v\": -11626}, {\"v\": null}, {\"v\": 609}, {\"v\": 609}, {\"v\": 0}, {\"v\": null}, {\"v\": \"NOT HISPANIC OR LATINO\"}, {\"v\": \"MALE\"}, {\"v\": null}, {\"v\": null}, {\"v\": null}, {\"v\": \"Yes\"}, {\"v\": null}, {\"v\": null}, {\"v\": null}, {\"v\": null}, {\"v\": null}, {\"v\": null}, {\"v\": null}, {\"v\": null}, {\"v\": null}, {\"v\": null}, {\"v\": null}, {\"v\": null}, {\"v\": null}, {\"v\": null}, {\"v\": null}, {\"v\": 2007}, {\"v\": null}, {\"v\": null}, {\"v\": null}, {\"v\": null}, {\"v\": null}, {\"v\": null}, {\"v\": null}, {\"v\": null}, {\"v\": null}, {\"v\": \"WHITE\"}, {\"v\": null}, {\"v\": null}, {\"v\": \"Bone Marrow\"}, {\"v\": null}, {\"v\": null}, {\"v\": null}, {\"v\": null}, {\"v\": null}, {\"v\": null}, {\"v\": null}, {\"v\": null}, {\"v\": null}, {\"v\": null}, {\"v\": null}, {\"v\": null}, {\"v\": null}]}], \"cols\": [{\"type\": \"string\", \"id\": \"ParticipantBarcode\", \"label\": \"ParticipantBarcode\"}, {\"type\": \"string\", \"id\": \"Study\", \"label\": \"Study\"}, {\"type\": \"string\", \"id\": \"Project\", \"label\": \"Project\"}, {\"type\": \"string\", \"id\": \"ParticipantUUID\", \"label\": \"ParticipantUUID\"}, {\"type\": \"string\", \"id\": \"TSSCode\", \"label\": \"TSSCode\"}, {\"type\": \"number\", \"id\": \"age_at_initial_pathologic_diagnosis\", \"label\": \"age_at_initial_pathologic_diagnosis\"}, {\"type\": \"string\", \"id\": \"anatomic_neoplasm_subdivision\", \"label\": \"anatomic_neoplasm_subdivision\"}, {\"type\": \"number\", \"id\": \"batch_number\", \"label\": \"batch_number\"}, {\"type\": \"string\", \"id\": \"bcr\", \"label\": \"bcr\"}, {\"type\": \"string\", \"id\": \"clinical_M\", \"label\": \"clinical_M\"}, {\"type\": \"string\", \"id\": \"clinical_N\", \"label\": \"clinical_N\"}, {\"type\": \"string\", \"id\": \"clinical_T\", \"label\": \"clinical_T\"}, {\"type\": \"string\", \"id\": \"clinical_stage\", \"label\": \"clinical_stage\"}, {\"type\": \"string\", \"id\": \"colorectal_cancer\", \"label\": \"colorectal_cancer\"}, {\"type\": \"string\", \"id\": \"country\", \"label\": \"country\"}, {\"type\": \"string\", \"id\": \"vital_status\", \"label\": \"vital_status\"}, {\"type\": \"number\", \"id\": \"days_to_birth\", \"label\": \"days_to_birth\"}, {\"type\": \"number\", \"id\": \"days_to_death\", \"label\": \"days_to_death\"}, {\"type\": \"number\", \"id\": \"days_to_last_known_alive\", \"label\": \"days_to_last_known_alive\"}, {\"type\": \"number\", \"id\": \"days_to_last_followup\", \"label\": \"days_to_last_followup\"}, {\"type\": \"number\", \"id\": \"days_to_initial_pathologic_diagnosis\", \"label\": \"days_to_initial_pathologic_diagnosis\"}, {\"type\": \"number\", \"id\": \"days_to_submitted_specimen_dx\", \"label\": \"days_to_submitted_specimen_dx\"}, {\"type\": \"string\", \"id\": \"ethnicity\", \"label\": \"ethnicity\"}, {\"type\": \"string\", \"id\": \"gender\", \"label\": \"gender\"}, {\"type\": \"number\", \"id\": \"gleason_score_combined\", \"label\": \"gleason_score_combined\"}, {\"type\": \"string\", \"id\": \"histological_type\", \"label\": \"histological_type\"}, {\"type\": \"string\", \"id\": \"history_of_colon_polyps\", \"label\": \"history_of_colon_polyps\"}, {\"type\": \"string\", \"id\": \"history_of_neoadjuvant_treatment\", \"label\": \"history_of_neoadjuvant_treatment\"}, {\"type\": \"string\", \"id\": \"hpv_calls\", \"label\": \"hpv_calls\"}, {\"type\": \"string\", \"id\": \"hpv_status\", \"label\": \"hpv_status\"}, {\"type\": \"string\", \"id\": \"icd_10\", \"label\": \"icd_10\"}, {\"type\": \"string\", \"id\": \"icd_o_3_histology\", \"label\": \"icd_o_3_histology\"}, {\"type\": \"string\", \"id\": \"icd_o_3_site\", \"label\": \"icd_o_3_site\"}, {\"type\": \"string\", \"id\": \"lymphatic_invasion\", \"label\": \"lymphatic_invasion\"}, {\"type\": \"string\", \"id\": \"lymphnodes_examined\", \"label\": \"lymphnodes_examined\"}, {\"type\": \"string\", \"id\": \"lymphovascular_invasion_present\", \"label\": \"lymphovascular_invasion_present\"}, {\"type\": \"string\", \"id\": \"menopause_status\", \"label\": \"menopause_status\"}, {\"type\": \"string\", \"id\": \"mononucleotide_and_dinucleotide_marker_panel_analysis_status\", \"label\": \"mononucleotide_and_dinucleotide_marker_panel_analysis_status\"}, {\"type\": \"string\", \"id\": \"neoplasm_histologic_grade\", \"label\": \"neoplasm_histologic_grade\"}, {\"type\": \"string\", \"id\": \"new_tumor_event_after_initial_treatment\", \"label\": \"new_tumor_event_after_initial_treatment\"}, {\"type\": \"number\", \"id\": \"number_of_lymphnodes_examined\", \"label\": \"number_of_lymphnodes_examined\"}, {\"type\": \"number\", \"id\": \"number_of_lymphnodes_positive_by_he\", \"label\": \"number_of_lymphnodes_positive_by_he\"}, {\"type\": \"number\", \"id\": \"number_pack_years_smoked\", \"label\": \"number_pack_years_smoked\"}, {\"type\": \"number\", \"id\": \"year_of_initial_pathologic_diagnosis\", \"label\": \"year_of_initial_pathologic_diagnosis\"}, {\"type\": \"string\", \"id\": \"pathologic_M\", \"label\": \"pathologic_M\"}, {\"type\": \"string\", \"id\": \"pathologic_N\", \"label\": \"pathologic_N\"}, {\"type\": \"string\", \"id\": \"pathologic_T\", \"label\": \"pathologic_T\"}, {\"type\": \"string\", \"id\": \"pathologic_stage\", \"label\": \"pathologic_stage\"}, {\"type\": \"string\", \"id\": \"person_neoplasm_cancer_status\", \"label\": \"person_neoplasm_cancer_status\"}, {\"type\": \"string\", \"id\": \"pregnancies\", \"label\": \"pregnancies\"}, {\"type\": \"string\", \"id\": \"primary_neoplasm_melanoma_dx\", \"label\": \"primary_neoplasm_melanoma_dx\"}, {\"type\": \"string\", \"id\": \"primary_therapy_outcome_success\", \"label\": \"primary_therapy_outcome_success\"}, {\"type\": \"number\", \"id\": \"psa_value\", \"label\": \"psa_value\"}, {\"type\": \"string\", \"id\": \"race\", \"label\": \"race\"}, {\"type\": \"string\", \"id\": \"residual_tumor\", \"label\": \"residual_tumor\"}, {\"type\": \"string\", \"id\": \"tobacco_smoking_history\", \"label\": \"tobacco_smoking_history\"}, {\"type\": \"string\", \"id\": \"tumor_tissue_site\", \"label\": \"tumor_tissue_site\"}, {\"type\": \"string\", \"id\": \"tumor_type\", \"label\": \"tumor_type\"}, {\"type\": \"number\", \"id\": \"weight\", \"label\": \"weight\"}, {\"type\": \"number\", \"id\": \"height\", \"label\": \"height\"}, {\"type\": \"number\", \"id\": \"BMI\", \"label\": \"BMI\"}, {\"type\": \"string\", \"id\": \"age_began_smoking_in_years\", \"label\": \"age_began_smoking_in_years\"}, {\"type\": \"string\", \"id\": \"h_pylori_infection\", \"label\": \"h_pylori_infection\"}, {\"type\": \"string\", \"id\": \"other_dx\", \"label\": \"other_dx\"}, {\"type\": \"string\", \"id\": \"other_malignancy_anatomic_site\", \"label\": \"other_malignancy_anatomic_site\"}, {\"type\": \"string\", \"id\": \"other_malignancy_histological_type\", \"label\": \"other_malignancy_histological_type\"}, {\"type\": \"string\", \"id\": \"other_malignancy_malignancy_type\", \"label\": \"other_malignancy_malignancy_type\"}, {\"type\": \"string\", \"id\": \"stopped_smoking_year\", \"label\": \"stopped_smoking_year\"}, {\"type\": \"string\", \"id\": \"venous_invasion\", \"label\": \"venous_invasion\"}, {\"type\": \"string\", \"id\": \"year_of_tobacco_smoking_onset\", \"label\": \"year_of_tobacco_smoking_onset\"}]},\n",
       "            {\n",
       "              pageSize: 25,\n",
       "              cssClassNames:  {\n",
       "                tableRow: 'gchart-table-row',\n",
       "                headerRow: 'gchart-table-headerrow',\n",
       "                oddTableRow: 'gchart-table-oddrow',\n",
       "                selectedTableRow: 'gchart-table-selectedrow',\n",
       "                hoverTableRow: 'gchart-table-hoverrow',\n",
       "                tableCell: 'gchart-table-cell',\n",
       "                headerCell: 'gchart-table-headercell',\n",
       "                rowNumberCell: 'gchart-table-rownumcell'\n",
       "              }\n",
       "            },\n",
       "            {source_index: 2, fields: 'ParticipantBarcode,Study,Project,ParticipantUUID,TSSCode,age_at_initial_pathologic_diagnosis,anatomic_neoplasm_subdivision,batch_number,bcr,clinical_M,clinical_N,clinical_T,clinical_stage,colorectal_cancer,country,vital_status,days_to_birth,days_to_death,days_to_last_known_alive,days_to_last_followup,days_to_initial_pathologic_diagnosis,days_to_submitted_specimen_dx,ethnicity,gender,gleason_score_combined,histological_type,history_of_colon_polyps,history_of_neoadjuvant_treatment,hpv_calls,hpv_status,icd_10,icd_o_3_histology,icd_o_3_site,lymphatic_invasion,lymphnodes_examined,lymphovascular_invasion_present,menopause_status,mononucleotide_and_dinucleotide_marker_panel_analysis_status,neoplasm_histologic_grade,new_tumor_event_after_initial_treatment,number_of_lymphnodes_examined,number_of_lymphnodes_positive_by_he,number_pack_years_smoked,year_of_initial_pathologic_diagnosis,pathologic_M,pathologic_N,pathologic_T,pathologic_stage,person_neoplasm_cancer_status,pregnancies,primary_neoplasm_melanoma_dx,primary_therapy_outcome_success,psa_value,race,residual_tumor,tobacco_smoking_history,tumor_tissue_site,tumor_type,weight,height,BMI,age_began_smoking_in_years,h_pylori_infection,other_dx,other_malignancy_anatomic_site,other_malignancy_histological_type,other_malignancy_malignancy_type,stopped_smoking_year,venous_invasion,year_of_tobacco_smoking_onset'},\n",
       "            0,\n",
       "            2);\n",
       "        }\n",
       "      );\n",
       "    </script>\n",
       "  "
      ],
      "text/plain": [
       "QueryResultsTable job_Xcxu_9jGrp4tlbQ6iA7MSerrBnQ"
      ]
     },
     "execution_count": 12,
     "metadata": {},
     "output_type": "execute_result"
    }
   ],
   "source": [
    "bq.Table('isb-cgc:tcga_201607_beta.Clinical_data').sample(count=2)"
   ]
  },
  {
   "cell_type": "code",
   "execution_count": 13,
   "metadata": {
    "collapsed": true
   },
   "outputs": [],
   "source": [
    "ds = bq.Table('isb-cgc:tcga_201607_beta.Clinical_data').to_dataframe()"
   ]
  },
  {
   "cell_type": "code",
   "execution_count": 14,
   "metadata": {
    "collapsed": false
   },
   "outputs": [
    {
     "data": {
      "text/plain": [
       "array(['LAML', 'HNSC', 'SKCM', 'COAD', 'READ', 'THYM', 'SARC', 'UCS',\n",
       "       'PRAD', 'THCA', 'DLBC', 'ESCA', 'STAD', 'LIHC', 'CHOL', 'PAAD',\n",
       "       'LUAD', 'LUSC', 'PCPG', 'MESO', 'OV', 'BRCA', 'CESC', 'UCEC',\n",
       "       'TGCT', 'KIRP', 'KIRC', 'KICH', 'BLCA', 'LGG', 'GBM', 'ACC', 'UVM'], dtype=object)"
      ]
     },
     "execution_count": 14,
     "metadata": {},
     "output_type": "execute_result"
    }
   ],
   "source": [
    "ds.Study.unique()"
   ]
  },
  {
   "cell_type": "code",
   "execution_count": 15,
   "metadata": {
    "collapsed": false
   },
   "outputs": [],
   "source": [
    "import pandas as pd\n",
    "pd.options.display.max_columns = 100"
   ]
  },
  {
   "cell_type": "code",
   "execution_count": 16,
   "metadata": {
    "collapsed": false
   },
   "outputs": [
    {
     "data": {
      "text/plain": [
       "array(['Infiltrating Ductal Carcinoma', 'Other, specify',\n",
       "       'Mucinous Carcinoma', 'Infiltrating Lobular Carcinoma',\n",
       "       'Mixed Histology (please specify)', 'Metaplastic Carcinoma',\n",
       "       'Infiltrating Carcinoma NOS', 'Medullary Carcinoma'], dtype=object)"
      ]
     },
     "execution_count": 16,
     "metadata": {},
     "output_type": "execute_result"
    }
   ],
   "source": [
    "ds[(ds.Study == 'BRCA')].histological_type.unique()"
   ]
  },
  {
   "cell_type": "code",
   "execution_count": 17,
   "metadata": {
    "collapsed": false
   },
   "outputs": [
    {
     "name": "stdout",
     "output_type": "stream",
     "text": [
      "['Stage IIA' 'Stage IIB' 'Stage I' 'Stage IIIA' 'Stage IA' 'Stage X'\n",
      " 'Stage IV' 'Stage IIIB' 'Stage IIIC' 'Stage IB' None 'Stage III'\n",
      " 'Stage II']\n"
     ]
    }
   ],
   "source": [
    "print ds[(ds.Study == 'BRCA')].pathologic_stage.unique()"
   ]
  },
  {
   "cell_type": "code",
   "execution_count": 18,
   "metadata": {
    "collapsed": false
   },
   "outputs": [
    {
     "data": {
      "text/plain": [
       "ParticipantBarcode                      1097\n",
       "Study                                   1097\n",
       "Project                                 1097\n",
       "ParticipantUUID                         1097\n",
       "TSSCode                                 1097\n",
       "age_at_initial_pathologic_diagnosis     1096\n",
       "anatomic_neoplasm_subdivision           1097\n",
       "batch_number                            1097\n",
       "bcr                                     1097\n",
       "clinical_M                                 0\n",
       "clinical_N                                 0\n",
       "clinical_T                                 0\n",
       "clinical_stage                             0\n",
       "colorectal_cancer                          0\n",
       "country                                  696\n",
       "vital_status                            1097\n",
       "days_to_birth                           1081\n",
       "days_to_death                            149\n",
       "days_to_last_known_alive                1096\n",
       "days_to_last_followup                    947\n",
       "days_to_initial_pathologic_diagnosis    1096\n",
       "days_to_submitted_specimen_dx              0\n",
       "ethnicity                                923\n",
       "gender                                  1097\n",
       "gleason_score_combined                     0\n",
       "histological_type                       1097\n",
       "history_of_colon_polyps                    0\n",
       "history_of_neoadjuvant_treatment        1097\n",
       "hpv_calls                                  0\n",
       "hpv_status                                 0\n",
       "                                        ... \n",
       "number_of_lymphnodes_examined            971\n",
       "number_of_lymphnodes_positive_by_he      929\n",
       "number_pack_years_smoked                   0\n",
       "year_of_initial_pathologic_diagnosis    1094\n",
       "pathologic_M                            1097\n",
       "pathologic_N                            1097\n",
       "pathologic_T                            1097\n",
       "pathologic_stage                        1086\n",
       "person_neoplasm_cancer_status           1061\n",
       "pregnancies                                0\n",
       "primary_neoplasm_melanoma_dx               0\n",
       "primary_therapy_outcome_success            0\n",
       "psa_value                                  0\n",
       "race                                    1002\n",
       "residual_tumor                             0\n",
       "tobacco_smoking_history                    0\n",
       "tumor_tissue_site                       1097\n",
       "tumor_type                                 0\n",
       "weight                                     0\n",
       "height                                     0\n",
       "BMI                                        0\n",
       "age_began_smoking_in_years                 0\n",
       "h_pylori_infection                         0\n",
       "other_dx                                1087\n",
       "other_malignancy_anatomic_site            76\n",
       "other_malignancy_histological_type        64\n",
       "other_malignancy_malignancy_type          77\n",
       "stopped_smoking_year                       0\n",
       "venous_invasion                            0\n",
       "year_of_tobacco_smoking_onset              0\n",
       "dtype: int64"
      ]
     },
     "execution_count": 18,
     "metadata": {},
     "output_type": "execute_result"
    }
   ],
   "source": [
    "ds[(ds.Study == 'BRCA')].count()"
   ]
  },
  {
   "cell_type": "code",
   "execution_count": 19,
   "metadata": {
    "collapsed": true
   },
   "outputs": [],
   "source": [
    "new_ds = ds[['ParticipantBarcode', 'Study', 'Project', 'ParticipantUUID', 'TSSCode', 'age_at_initial_pathologic_diagnosis', 'anatomic_neoplasm_subdivision', 'batch_number',\n",
    "            'bcr','vital_status', 'days_to_birth', 'days_to_last_known_alive', 'days_to_initial_pathologic_diagnosis', 'gender', 'histological_type', \n",
    "             'history_of_neoadjuvant_treatment', 'year_of_initial_pathologic_diagnosis', 'pathologic_M', 'pathologic_N', 'pathologic_T', 'pathologic_stage',\n",
    "             'person_neoplasm_cancer_status', 'race', 'tumor_tissue_site', 'other_dx'\n",
    "            ]]\n"
   ]
  },
  {
   "cell_type": "code",
   "execution_count": 20,
   "metadata": {
    "collapsed": false
   },
   "outputs": [
    {
     "data": {
      "text/plain": [
       "Breast                                                     1098\n",
       "Lung                                                       1026\n",
       "Kidney                                                      941\n",
       "Brain                                                       599\n",
       "Ovary                                                       582\n",
       "Head and Neck                                               565\n",
       "Endometrial                                                 547\n",
       "Central nervous system                                      515\n",
       "Thyroid                                                     509\n",
       "Prostate                                                    500\n",
       "Colon                                                       460\n",
       "Stomach                                                     445\n",
       "Bladder                                                     412\n",
       "Liver                                                       378\n",
       "Cervical                                                    307\n",
       "Bone Marrow                                                 199\n",
       "Extremities                                                 196\n",
       "Pancreas                                                    185\n",
       "Esophagus                                                   185\n",
       "Trunk                                                       172\n",
       "Rectum                                                      167\n",
       "Adrenal gland                                               147\n",
       "Testes                                                      134\n",
       "Thymus                                                       97\n",
       "Adrenal                                                      94\n",
       "Pleura                                                       87\n",
       "Choroid                                                      80\n",
       "Retroperitoneum/Upper abdominal - Retroperitoneum            74\n",
       "Uterus                                                       57\n",
       "Bile duct                                                    45\n",
       "                                                           ... \n",
       "Bone                                                          4\n",
       "Lower Extremity - Foot/ankle                                  4\n",
       "Superficial Trunk - Buttock                                   4\n",
       "Retroperitoneum/Upper abdominal - Colon                       4\n",
       "Omentum                                                       3\n",
       "Small intestine                                               3\n",
       "Retroperitoneum/Upper abdominal - Small Intestines            3\n",
       "Chest - Other (please specify                                 2\n",
       "Retroperitoneum/Upper abdominal - Other (please specify       2\n",
       "Peritoneum ovary                                              2\n",
       "Superficial Trunk - Abdominal wall                            2\n",
       "Head and Neck - Other (please specify                         2\n",
       "Chest - Lung/pleura                                           2\n",
       "Lower Extremity - Groin                                       2\n",
       "Retroperitoneum/Upper abdominal - Gastric                     2\n",
       "Primary Tumor                                                 2\n",
       "Head and Neck - Head                                          2\n",
       "Lower abdominal/Pelvic - Spermatic Cord                       2\n",
       "Lower abdominal/Pelvic - Other (please specify                2\n",
       "Ascites/Peritoneum                                            2\n",
       "Retroperitoneum/Upper abdominal - Pancreas                    1\n",
       "Parotid Gland                                                 1\n",
       "Soft Tissue (muscle  ligaments  subcutaneous)                 1\n",
       "Head and Neck - Neck                                          1\n",
       "Gynecological - Ovary                                         1\n",
       "Superficial Trunk - Flank                                     1\n",
       "Lower abdominal/Pelvic - Bladder                              1\n",
       "Chest - Breast                                                1\n",
       "Other Extranodal Site                                         1\n",
       "Chest - Mediastinum                                           1\n",
       "Name: tumor_tissue_site, dtype: int64"
      ]
     },
     "execution_count": 20,
     "metadata": {},
     "output_type": "execute_result"
    }
   ],
   "source": [
    "new_ds.tumor_tissue_site.value_counts()"
   ]
  },
  {
   "cell_type": "code",
   "execution_count": 21,
   "metadata": {
    "collapsed": false
   },
   "outputs": [
    {
     "data": {
      "text/plain": [
       "count    11109.000000\n",
       "mean        59.099019\n",
       "std         14.415440\n",
       "min         10.000000\n",
       "25%         50.000000\n",
       "50%         60.000000\n",
       "75%         70.000000\n",
       "max         90.000000\n",
       "Name: age_at_initial_pathologic_diagnosis, dtype: float64"
      ]
     },
     "execution_count": 21,
     "metadata": {},
     "output_type": "execute_result"
    }
   ],
   "source": [
    "new_ds.age_at_initial_pathologic_diagnosis.describe()"
   ]
  },
  {
   "cell_type": "code",
   "execution_count": 22,
   "metadata": {
    "collapsed": false
   },
   "outputs": [
    {
     "data": {
      "text/plain": [
       "<matplotlib.axes._subplots.AxesSubplot at 0x7f49d8066f50>"
      ]
     },
     "execution_count": 22,
     "metadata": {},
     "output_type": "execute_result"
    },
    {
     "data": {
      "image/png": "[encoded data removed]",
      "text/plain": [
       "<matplotlib.figure.Figure at 0x7f4a107cba50>"
      ]
     },
     "metadata": {},
     "output_type": "display_data"
    }
   ],
   "source": [
    "new_ds.age_at_initial_pathologic_diagnosis.plot.hist()"
   ]
  },
  {
   "cell_type": "code",
   "execution_count": null,
   "metadata": {
    "collapsed": true
   },
   "outputs": [],
   "source": []
  }
 ],
 "metadata": {
  "kernelspec": {
   "display_name": "Python 2",
   "language": "python",
   "name": "python2"
  },
  "language_info": {
   "codemirror_mode": {
    "name": "ipython",
    "version": 2
   },
   "file_extension": ".py",
   "mimetype": "text/x-python",
   "name": "python",
   "nbconvert_exporter": "python",
   "pygments_lexer": "ipython2",
   "version": "2.7.9"
  }
 },
 "nbformat": 4,
 "nbformat_minor": 1
}
